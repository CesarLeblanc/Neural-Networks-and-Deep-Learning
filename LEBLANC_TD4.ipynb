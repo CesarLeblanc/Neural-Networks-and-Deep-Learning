{
  "nbformat": 4,
  "nbformat_minor": 0,
  "metadata": {
    "colab": {
      "name": "LEBLANC_TD4.ipynb",
      "provenance": [],
      "collapsed_sections": [],
      "toc_visible": true
    },
    "kernelspec": {
      "name": "python3",
      "display_name": "Python 3"
    }
  },
  "cells": [
    {
      "cell_type": "markdown",
      "metadata": {
        "id": "MmVBfrAJqQ_e"
      },
      "source": [
        "# Part 1"
      ]
    },
    {
      "cell_type": "markdown",
      "metadata": {
        "id": "z0Gt32f53Tb6"
      },
      "source": [
        "## Exercise 1"
      ]
    },
    {
      "cell_type": "code",
      "metadata": {
        "id": "1ao8i30c1mFw",
        "colab": {
          "base_uri": "https://localhost:8080/"
        },
        "outputId": "7e385a73-a67f-4c90-c79e-09639cda8ada"
      },
      "source": [
        "from keras.datasets import imdb\n",
        "\n",
        "(train_data, train_labels), (test_data, test_labels) = imdb.load_data(num_words=10000)\n",
        "\n",
        "print(\"The train_data size is\", len(train_data), \"and the test_data size is\", len(test_data))\n",
        "print(\"The train_data shape is\", train_data.shape, \"and the test_data shape is\", test_data.shape)"
      ],
      "execution_count": null,
      "outputs": [
        {
          "output_type": "stream",
          "text": [
            "<string>:6: VisibleDeprecationWarning: Creating an ndarray from ragged nested sequences (which is a list-or-tuple of lists-or-tuples-or ndarrays with different lengths or shapes) is deprecated. If you meant to do this, you must specify 'dtype=object' when creating the ndarray\n",
            "/usr/local/lib/python3.6/dist-packages/tensorflow/python/keras/datasets/imdb.py:159: VisibleDeprecationWarning: Creating an ndarray from ragged nested sequences (which is a list-or-tuple of lists-or-tuples-or ndarrays with different lengths or shapes) is deprecated. If you meant to do this, you must specify 'dtype=object' when creating the ndarray\n",
            "  x_train, y_train = np.array(xs[:idx]), np.array(labels[:idx])\n"
          ],
          "name": "stderr"
        },
        {
          "output_type": "stream",
          "text": [
            "The train_data size is 25000 and the test_data size is 25000\n",
            "The train_data shape is (25000,) and the test_data shape is (25000,)\n"
          ],
          "name": "stdout"
        },
        {
          "output_type": "stream",
          "text": [
            "/usr/local/lib/python3.6/dist-packages/tensorflow/python/keras/datasets/imdb.py:160: VisibleDeprecationWarning: Creating an ndarray from ragged nested sequences (which is a list-or-tuple of lists-or-tuples-or ndarrays with different lengths or shapes) is deprecated. If you meant to do this, you must specify 'dtype=object' when creating the ndarray\n",
            "  x_test, y_test = np.array(xs[idx:]), np.array(labels[idx:])\n"
          ],
          "name": "stderr"
        }
      ]
    },
    {
      "cell_type": "markdown",
      "metadata": {
        "id": "M_wjLsf56Beu"
      },
      "source": [
        "## Exercise 2"
      ]
    },
    {
      "cell_type": "code",
      "metadata": {
        "id": "iZNh4DpP6DIk",
        "colab": {
          "base_uri": "https://localhost:8080/"
        },
        "outputId": "3b185241-5835-4059-8695-7462c9ead412"
      },
      "source": [
        "import numpy as np\n",
        "\n",
        "def vectorize_sequences(sequences, dimension = 10000) :\n",
        "  # Create an all-zero matrix of shape (len(sequences), dimension)\n",
        "  results = np.zeros ((len(sequences), dimension))\n",
        "  for i , sequence in enumerate (sequences):\n",
        "    results [i, sequence] = 1. # set specific indices of results [i] to 1s\n",
        "  return results\n",
        "\n",
        "# Our vectorized training data\n",
        "x_train = vectorize_sequences(train_data)\n",
        "# Our vectorized test data\n",
        "x_test = vectorize_sequences(test_data)\n",
        "# Our vectorized labels\n",
        "y_train = np.asarray (train_labels).astype('float32')\n",
        "y_test = np.asarray(test_labels).astype('float32')\n",
        "\n",
        "print(\"The x_train size is\", len(x_train), \"and the x_test size is\", len(x_test))\n",
        "print(\"The x_train shape is\", x_train.shape, \"and the x_test shape is\", x_test.shape)"
      ],
      "execution_count": null,
      "outputs": [
        {
          "output_type": "stream",
          "text": [
            "The x_train size is 25000 and the x_test size is 25000\n",
            "The x_train shape is (25000, 10000) and the x_test shape is (25000, 10000)\n"
          ],
          "name": "stdout"
        }
      ]
    },
    {
      "cell_type": "markdown",
      "metadata": {
        "id": "kAxSm38jgQ8F"
      },
      "source": [
        "## Exercise 3"
      ]
    },
    {
      "cell_type": "code",
      "metadata": {
        "id": "TVhxws2GgTvd"
      },
      "source": [
        "from tensorflow import keras\n",
        "\n",
        "original_model = keras.Sequential([\n",
        "    keras.layers.Dense(16, activation='relu', input_shape=(10000,)),\n",
        "    keras.layers.Dense(16, activation='relu'),\n",
        "    keras.layers.Dense(1, activation='sigmoid')\n",
        "])\n",
        "\n",
        "# For the network compilation\n",
        "original_model.compile(optimizer='rmsprop',\n",
        "                       loss= 'binary_crossentropy',\n",
        "                       metrics=['acc'])"
      ],
      "execution_count": null,
      "outputs": []
    },
    {
      "cell_type": "markdown",
      "metadata": {
        "id": "qJq9KFLrg2zJ"
      },
      "source": [
        "The binary crossentropy loss is a sigmoid activation plus a crossentropy loss. Unlike softmax loss, it is independent for each vector component (class), meaning that the loss computed for every CNN output vector component is not affected by other component values."
      ]
    },
    {
      "cell_type": "markdown",
      "metadata": {
        "id": "tllU9cWqhDZB"
      },
      "source": [
        "## Exercise 4"
      ]
    },
    {
      "cell_type": "code",
      "metadata": {
        "id": "OpF7Iw6PhGtg"
      },
      "source": [
        "smaller_model = keras.Sequential([\n",
        "    keras.layers.Dense(4, activation='relu', input_shape=(10000,)),\n",
        "    keras.layers.Dense(4, activation='relu'),\n",
        "    keras.layers.Dense(1, activation='sigmoid')\n",
        "])\n",
        "smaller_model.compile(optimizer='rmsprop',\n",
        "                       loss= 'binary_crossentropy',\n",
        "                       metrics=['acc'])"
      ],
      "execution_count": null,
      "outputs": []
    },
    {
      "cell_type": "markdown",
      "metadata": {
        "id": "k2_edriphtrL"
      },
      "source": [
        "## Exercise 5"
      ]
    },
    {
      "cell_type": "code",
      "metadata": {
        "colab": {
          "base_uri": "https://localhost:8080/"
        },
        "id": "XzoPcR5hhvd5",
        "outputId": "b313e494-ae96-4b73-8488-e456844e9578"
      },
      "source": [
        "original_hist = original_model.fit(x_train, y_train,\n",
        "                                   epochs=20,\n",
        "                                   batch_size=512,\n",
        "                                   validation_data=(x_test, y_test))"
      ],
      "execution_count": null,
      "outputs": [
        {
          "output_type": "stream",
          "text": [
            "Epoch 1/20\n",
            "49/49 [==============================] - 4s 55ms/step - loss: 0.5400 - acc: 0.7445 - val_loss: 0.3251 - val_acc: 0.8818\n",
            "Epoch 2/20\n",
            "49/49 [==============================] - 2s 31ms/step - loss: 0.2635 - acc: 0.9084 - val_loss: 0.2825 - val_acc: 0.8905\n",
            "Epoch 3/20\n",
            "49/49 [==============================] - 2s 31ms/step - loss: 0.1956 - acc: 0.9340 - val_loss: 0.2812 - val_acc: 0.8891\n",
            "Epoch 4/20\n",
            "49/49 [==============================] - 1s 31ms/step - loss: 0.1584 - acc: 0.9480 - val_loss: 0.3322 - val_acc: 0.8696\n",
            "Epoch 5/20\n",
            "49/49 [==============================] - 2s 32ms/step - loss: 0.1351 - acc: 0.9543 - val_loss: 0.3169 - val_acc: 0.8788\n",
            "Epoch 6/20\n",
            "49/49 [==============================] - 2s 31ms/step - loss: 0.1200 - acc: 0.9595 - val_loss: 0.3628 - val_acc: 0.8674\n",
            "Epoch 7/20\n",
            "49/49 [==============================] - 1s 30ms/step - loss: 0.1144 - acc: 0.9631 - val_loss: 0.3576 - val_acc: 0.8728\n",
            "Epoch 8/20\n",
            "49/49 [==============================] - 2s 31ms/step - loss: 0.0962 - acc: 0.9680 - val_loss: 0.3863 - val_acc: 0.8678\n",
            "Epoch 9/20\n",
            "49/49 [==============================] - 1s 31ms/step - loss: 0.0808 - acc: 0.9736 - val_loss: 0.4448 - val_acc: 0.8582\n",
            "Epoch 10/20\n",
            "49/49 [==============================] - 2s 31ms/step - loss: 0.0732 - acc: 0.9776 - val_loss: 0.4556 - val_acc: 0.8598\n",
            "Epoch 11/20\n",
            "49/49 [==============================] - 1s 30ms/step - loss: 0.0624 - acc: 0.9822 - val_loss: 0.4898 - val_acc: 0.8573\n",
            "Epoch 12/20\n",
            "49/49 [==============================] - 2s 31ms/step - loss: 0.0565 - acc: 0.9841 - val_loss: 0.5021 - val_acc: 0.8592\n",
            "Epoch 13/20\n",
            "49/49 [==============================] - 1s 30ms/step - loss: 0.0479 - acc: 0.9859 - val_loss: 0.5356 - val_acc: 0.8552\n",
            "Epoch 14/20\n",
            "49/49 [==============================] - 1s 29ms/step - loss: 0.0401 - acc: 0.9895 - val_loss: 0.5626 - val_acc: 0.8570\n",
            "Epoch 15/20\n",
            "49/49 [==============================] - 1s 30ms/step - loss: 0.0359 - acc: 0.9908 - val_loss: 0.6213 - val_acc: 0.8496\n",
            "Epoch 16/20\n",
            "49/49 [==============================] - 1s 29ms/step - loss: 0.0294 - acc: 0.9927 - val_loss: 0.6725 - val_acc: 0.8471\n",
            "Epoch 17/20\n",
            "49/49 [==============================] - 1s 31ms/step - loss: 0.0317 - acc: 0.9912 - val_loss: 0.6804 - val_acc: 0.8502\n",
            "Epoch 18/20\n",
            "49/49 [==============================] - 1s 30ms/step - loss: 0.0249 - acc: 0.9939 - val_loss: 0.7045 - val_acc: 0.8523\n",
            "Epoch 19/20\n",
            "49/49 [==============================] - 2s 31ms/step - loss: 0.0186 - acc: 0.9965 - val_loss: 0.7458 - val_acc: 0.8499\n",
            "Epoch 20/20\n",
            "49/49 [==============================] - 1s 30ms/step - loss: 0.0129 - acc: 0.9979 - val_loss: 0.7884 - val_acc: 0.8488\n"
          ],
          "name": "stdout"
        }
      ]
    },
    {
      "cell_type": "markdown",
      "metadata": {
        "id": "Td5H_yJYiFHU"
      },
      "source": [
        "## Exercise 6"
      ]
    },
    {
      "cell_type": "code",
      "metadata": {
        "colab": {
          "base_uri": "https://localhost:8080/"
        },
        "id": "x89nsN3riEo8",
        "outputId": "9170e0e3-2a75-4f4b-d74f-f87608b00f4f"
      },
      "source": [
        "smaller_hist = smaller_model.fit(x_train, y_train,\n",
        "                                   epochs=20,\n",
        "                                   batch_size=512,\n",
        "                                   validation_data=(x_test, y_test))"
      ],
      "execution_count": null,
      "outputs": [
        {
          "output_type": "stream",
          "text": [
            "Epoch 1/20\n",
            "49/49 [==============================] - 2s 36ms/step - loss: 0.5985 - acc: 0.7397 - val_loss: 0.4353 - val_acc: 0.8575\n",
            "Epoch 2/20\n",
            "49/49 [==============================] - 1s 26ms/step - loss: 0.3731 - acc: 0.8861 - val_loss: 0.3439 - val_acc: 0.8765\n",
            "Epoch 3/20\n",
            "49/49 [==============================] - 1s 27ms/step - loss: 0.2729 - acc: 0.9082 - val_loss: 0.2966 - val_acc: 0.8870\n",
            "Epoch 4/20\n",
            "49/49 [==============================] - 1s 26ms/step - loss: 0.2219 - acc: 0.9264 - val_loss: 0.2813 - val_acc: 0.8900\n",
            "Epoch 5/20\n",
            "49/49 [==============================] - 1s 26ms/step - loss: 0.1876 - acc: 0.9384 - val_loss: 0.2807 - val_acc: 0.8880\n",
            "Epoch 6/20\n",
            "49/49 [==============================] - 1s 26ms/step - loss: 0.1634 - acc: 0.9482 - val_loss: 0.2850 - val_acc: 0.8858\n",
            "Epoch 7/20\n",
            "49/49 [==============================] - 1s 25ms/step - loss: 0.1416 - acc: 0.9558 - val_loss: 0.2941 - val_acc: 0.8824\n",
            "Epoch 8/20\n",
            "49/49 [==============================] - 1s 26ms/step - loss: 0.1266 - acc: 0.9593 - val_loss: 0.3049 - val_acc: 0.8811\n",
            "Epoch 9/20\n",
            "49/49 [==============================] - 1s 25ms/step - loss: 0.1172 - acc: 0.9627 - val_loss: 0.3182 - val_acc: 0.8783\n",
            "Epoch 10/20\n",
            "49/49 [==============================] - 1s 24ms/step - loss: 0.1055 - acc: 0.9671 - val_loss: 0.3330 - val_acc: 0.8764\n",
            "Epoch 11/20\n",
            "49/49 [==============================] - 1s 25ms/step - loss: 0.0963 - acc: 0.9718 - val_loss: 0.3475 - val_acc: 0.8739\n",
            "Epoch 12/20\n",
            "49/49 [==============================] - 1s 25ms/step - loss: 0.0871 - acc: 0.9749 - val_loss: 0.3625 - val_acc: 0.8728\n",
            "Epoch 13/20\n",
            "49/49 [==============================] - 1s 26ms/step - loss: 0.0829 - acc: 0.9767 - val_loss: 0.3800 - val_acc: 0.8697\n",
            "Epoch 14/20\n",
            "49/49 [==============================] - 1s 26ms/step - loss: 0.0747 - acc: 0.9797 - val_loss: 0.3996 - val_acc: 0.8689\n",
            "Epoch 15/20\n",
            "49/49 [==============================] - 1s 26ms/step - loss: 0.0655 - acc: 0.9819 - val_loss: 0.4178 - val_acc: 0.8676\n",
            "Epoch 16/20\n",
            "49/49 [==============================] - 1s 26ms/step - loss: 0.0605 - acc: 0.9841 - val_loss: 0.4425 - val_acc: 0.8630\n",
            "Epoch 17/20\n",
            "49/49 [==============================] - 1s 25ms/step - loss: 0.0553 - acc: 0.9865 - val_loss: 0.4687 - val_acc: 0.8607\n",
            "Epoch 18/20\n",
            "49/49 [==============================] - 1s 25ms/step - loss: 0.0484 - acc: 0.9889 - val_loss: 0.4803 - val_acc: 0.8628\n",
            "Epoch 19/20\n",
            "49/49 [==============================] - 1s 25ms/step - loss: 0.0454 - acc: 0.9894 - val_loss: 0.5039 - val_acc: 0.8605\n",
            "Epoch 20/20\n",
            "49/49 [==============================] - 1s 25ms/step - loss: 0.0396 - acc: 0.9909 - val_loss: 0.5409 - val_acc: 0.8555\n"
          ],
          "name": "stdout"
        }
      ]
    },
    {
      "cell_type": "markdown",
      "metadata": {
        "id": "Ku3lfk4IiQ4Q"
      },
      "source": [
        "## Exercise 7"
      ]
    },
    {
      "cell_type": "code",
      "metadata": {
        "id": "C6K-mRC-iSeK"
      },
      "source": [
        "original_val_loss = original_hist.history['val_loss']\n",
        "smaller_model_val_loss = smaller_hist.history['val_loss']"
      ],
      "execution_count": null,
      "outputs": []
    },
    {
      "cell_type": "markdown",
      "metadata": {
        "id": "1UusAZCPikYr"
      },
      "source": [
        "## Exercise 8"
      ]
    },
    {
      "cell_type": "code",
      "metadata": {
        "colab": {
          "base_uri": "https://localhost:8080/"
        },
        "id": "o5pGoAguil_a",
        "outputId": "fba93550-3603-4e2c-9092-0f8a4e26c2c7"
      },
      "source": [
        "import matplotlib.pyplot as plt\n",
        "\n",
        "epochs = range(1, 21)\n",
        "\n",
        "plt.plot(epochs, original_val_loss, 'b+', label='Original model')\n",
        "plt.plot(epochs, smaller_model_val_loss, 'bo', label='Smaller model')\n",
        "plt.xlabel('Epochs')\n",
        "plt.ylabel('Validation loss')\n",
        "plt.legend()\n",
        "plt.show()"
      ],
      "execution_count": null,
      "outputs": [
        {
          "output_type": "display_data",
          "data": {
            "image/png": "[encoded data removed]",
            "text/plain": [
              "<Figure size 432x288 with 1 Axes>"
            ]
          },
          "metadata": {
            "tags": [],
            "needs_background": "light"
          }
        }
      ]
    },
    {
      "cell_type": "markdown",
      "metadata": {
        "id": "xAC0s_wajFbC"
      },
      "source": [
        "The original model starts overfitting after 3 epochs and the smaller model starts overfitting after 5 models (and its performance degrades more slowly once it starts overfitting)."
      ]
    },
    {
      "cell_type": "markdown",
      "metadata": {
        "id": "tiwtQFfcjiiX"
      },
      "source": [
        "## Exercise 9"
      ]
    },
    {
      "cell_type": "code",
      "metadata": {
        "id": "jjObCY42jj2r"
      },
      "source": [
        "bigger_model = keras.Sequential([\n",
        "    keras.layers.Dense(512, activation='relu', input_shape=(10000,)),\n",
        "    keras.layers.Dense(512, activation='relu'),\n",
        "    keras.layers.Dense(1, activation='sigmoid')\n",
        "])\n",
        "bigger_model.compile(optimizer='rmsprop',\n",
        "                       loss= 'binary_crossentropy',\n",
        "                       metrics=['acc'])"
      ],
      "execution_count": null,
      "outputs": []
    },
    {
      "cell_type": "markdown",
      "metadata": {
        "id": "I_rh97fujyhq"
      },
      "source": [
        "## Exercise 10"
      ]
    },
    {
      "cell_type": "code",
      "metadata": {
        "colab": {
          "base_uri": "https://localhost:8080/"
        },
        "id": "gm1VyNcPj4ns",
        "outputId": "ee2d5ed8-70e2-4434-e1c0-f3d803e5eda5"
      },
      "source": [
        "bigger_hist = bigger_model.fit(x_train, y_train,\n",
        "                                     epochs=20,\n",
        "                                     batch_size=512,\n",
        "                                     validation_data=(x_test, y_test))"
      ],
      "execution_count": null,
      "outputs": [
        {
          "output_type": "stream",
          "text": [
            "Epoch 1/20\n",
            "49/49 [==============================] - 17s 321ms/step - loss: 0.6346 - acc: 0.7287 - val_loss: 0.3869 - val_acc: 0.8190\n",
            "Epoch 2/20\n",
            "49/49 [==============================] - 14s 294ms/step - loss: 0.2286 - acc: 0.9108 - val_loss: 0.3956 - val_acc: 0.8414\n",
            "Epoch 3/20\n",
            "49/49 [==============================] - 14s 293ms/step - loss: 0.1287 - acc: 0.9506 - val_loss: 0.3483 - val_acc: 0.8778\n",
            "Epoch 4/20\n",
            "49/49 [==============================] - 15s 301ms/step - loss: 0.0522 - acc: 0.9813 - val_loss: 0.3997 - val_acc: 0.8837\n",
            "Epoch 5/20\n",
            "49/49 [==============================] - 15s 298ms/step - loss: 0.0277 - acc: 0.9940 - val_loss: 0.4930 - val_acc: 0.8828\n",
            "Epoch 6/20\n",
            "49/49 [==============================] - 14s 294ms/step - loss: 0.0023 - acc: 0.9998 - val_loss: 0.6999 - val_acc: 0.8816\n",
            "Epoch 7/20\n",
            "49/49 [==============================] - 14s 297ms/step - loss: 0.0105 - acc: 0.9989 - val_loss: 0.7612 - val_acc: 0.8530\n",
            "Epoch 8/20\n",
            "49/49 [==============================] - 14s 297ms/step - loss: 0.0014 - acc: 1.0000 - val_loss: 0.7613 - val_acc: 0.8808\n",
            "Epoch 9/20\n",
            "49/49 [==============================] - 15s 301ms/step - loss: 8.8137e-05 - acc: 1.0000 - val_loss: 0.9491 - val_acc: 0.8806\n",
            "Epoch 10/20\n",
            "49/49 [==============================] - 14s 295ms/step - loss: 1.3070e-05 - acc: 1.0000 - val_loss: 1.1188 - val_acc: 0.8797\n",
            "Epoch 11/20\n",
            "49/49 [==============================] - 15s 304ms/step - loss: 1.7866e-06 - acc: 1.0000 - val_loss: 1.2795 - val_acc: 0.8798\n",
            "Epoch 12/20\n",
            "49/49 [==============================] - 15s 300ms/step - loss: 2.8556e-07 - acc: 1.0000 - val_loss: 1.4254 - val_acc: 0.8798\n",
            "Epoch 13/20\n",
            "49/49 [==============================] - 14s 297ms/step - loss: 6.5790e-08 - acc: 1.0000 - val_loss: 1.5329 - val_acc: 0.8795\n",
            "Epoch 14/20\n",
            "49/49 [==============================] - 15s 299ms/step - loss: 2.6372e-08 - acc: 1.0000 - val_loss: 1.5916 - val_acc: 0.8800\n",
            "Epoch 15/20\n",
            "49/49 [==============================] - 14s 293ms/step - loss: 1.4890e-08 - acc: 1.0000 - val_loss: 1.6255 - val_acc: 0.8795\n",
            "Epoch 16/20\n",
            "49/49 [==============================] - 14s 290ms/step - loss: 1.0642e-08 - acc: 1.0000 - val_loss: 1.6503 - val_acc: 0.8803\n",
            "Epoch 17/20\n",
            "49/49 [==============================] - 14s 292ms/step - loss: 8.0858e-09 - acc: 1.0000 - val_loss: 1.6710 - val_acc: 0.8801\n",
            "Epoch 18/20\n",
            "49/49 [==============================] - 15s 301ms/step - loss: 6.2834e-09 - acc: 1.0000 - val_loss: 1.6863 - val_acc: 0.8803\n",
            "Epoch 19/20\n",
            "49/49 [==============================] - 14s 290ms/step - loss: 5.6990e-09 - acc: 1.0000 - val_loss: 1.6987 - val_acc: 0.8803\n",
            "Epoch 20/20\n",
            "49/49 [==============================] - 15s 298ms/step - loss: 4.9189e-09 - acc: 1.0000 - val_loss: 1.7107 - val_acc: 0.8799\n"
          ],
          "name": "stdout"
        }
      ]
    },
    {
      "cell_type": "markdown",
      "metadata": {
        "id": "5jzcwNgYnjES"
      },
      "source": [
        "## Exercise 11"
      ]
    },
    {
      "cell_type": "code",
      "metadata": {
        "colab": {
          "base_uri": "https://localhost:8080/"
        },
        "id": "ozxFOw6hnlsl",
        "outputId": "e9942b19-2fb9-43f9-ed51-4771c697d9e3"
      },
      "source": [
        "original_train_loss = original_hist.history['loss']\n",
        "bigger_model_train_loss = bigger_hist.history['loss']\n",
        "\n",
        "plt.plot(epochs, original_train_loss, 'b+', label='Original model')\n",
        "plt.plot(epochs, bigger_model_train_loss, 'bo', label='Bigger model')\n",
        "plt.xlabel('Epochs')\n",
        "plt.ylabel('Training loss')\n",
        "plt.legend()\n",
        "plt.show()"
      ],
      "execution_count": null,
      "outputs": [
        {
          "output_type": "display_data",
          "data": {
            "image/png": "[encoded data removed]",
            "text/plain": [
              "<Figure size 432x288 with 1 Axes>"
            ]
          },
          "metadata": {
            "tags": [],
            "needs_background": "light"
          }
        }
      ]
    },
    {
      "cell_type": "markdown",
      "metadata": {
        "id": "qArMB7Qln1SU"
      },
      "source": [
        "## Exercise 12"
      ]
    },
    {
      "cell_type": "code",
      "metadata": {
        "id": "8G0xdqNgoA6Y"
      },
      "source": [
        "l2_model = keras.Sequential([\n",
        "    keras.layers.Dense(16, activation='relu', input_shape=(10000,), kernel_regularizer = keras.regularizers.l2(0.001)),\n",
        "    keras.layers.Dense(16, activation='relu', kernel_regularizer = keras.regularizers.l2(0.001)),\n",
        "    keras.layers.Dense(1, activation='sigmoid')\n",
        "])\n",
        "\n",
        "l2_model.compile(optimizer = 'rmsprop',\n",
        "                       loss = 'binary_crossentropy',\n",
        "                       metrics = ['acc'])"
      ],
      "execution_count": null,
      "outputs": []
    },
    {
      "cell_type": "markdown",
      "metadata": {
        "id": "fcDXvqleoRhv"
      },
      "source": [
        "## Exercise 13"
      ]
    },
    {
      "cell_type": "code",
      "metadata": {
        "colab": {
          "base_uri": "https://localhost:8080/"
        },
        "id": "2_xujzT5oS43",
        "outputId": "5a6aa8df-031c-4f1c-dd52-6d92e830f74c"
      },
      "source": [
        "l2_model_hist = l2_model.fit(x_train, y_train,\n",
        "                             epochs=20,\n",
        "                             batch_size=512,\n",
        "                             validation_data=(x_test, y_test))"
      ],
      "execution_count": null,
      "outputs": [
        {
          "output_type": "stream",
          "text": [
            "Epoch 1/20\n",
            "49/49 [==============================] - 3s 40ms/step - loss: 0.5991 - acc: 0.7562 - val_loss: 0.4053 - val_acc: 0.8797\n",
            "Epoch 2/20\n",
            "49/49 [==============================] - 1s 26ms/step - loss: 0.3430 - acc: 0.9074 - val_loss: 0.3762 - val_acc: 0.8664\n",
            "Epoch 3/20\n",
            "49/49 [==============================] - 1s 26ms/step - loss: 0.2832 - acc: 0.9198 - val_loss: 0.3360 - val_acc: 0.8878\n",
            "Epoch 4/20\n",
            "49/49 [==============================] - 1s 27ms/step - loss: 0.2522 - acc: 0.9316 - val_loss: 0.3384 - val_acc: 0.8852\n",
            "Epoch 5/20\n",
            "49/49 [==============================] - 1s 27ms/step - loss: 0.2426 - acc: 0.9344 - val_loss: 0.3452 - val_acc: 0.8828\n",
            "Epoch 6/20\n",
            "49/49 [==============================] - 1s 26ms/step - loss: 0.2367 - acc: 0.9350 - val_loss: 0.3516 - val_acc: 0.8804\n",
            "Epoch 7/20\n",
            "49/49 [==============================] - 1s 26ms/step - loss: 0.2280 - acc: 0.9399 - val_loss: 0.3703 - val_acc: 0.8760\n",
            "Epoch 8/20\n",
            "49/49 [==============================] - 1s 26ms/step - loss: 0.2182 - acc: 0.9431 - val_loss: 0.3624 - val_acc: 0.8800\n",
            "Epoch 9/20\n",
            "49/49 [==============================] - 1s 26ms/step - loss: 0.2135 - acc: 0.9457 - val_loss: 0.3845 - val_acc: 0.8732\n",
            "Epoch 10/20\n",
            "49/49 [==============================] - 1s 26ms/step - loss: 0.2096 - acc: 0.9472 - val_loss: 0.4638 - val_acc: 0.8452\n",
            "Epoch 11/20\n",
            "49/49 [==============================] - 1s 26ms/step - loss: 0.2151 - acc: 0.9440 - val_loss: 0.3901 - val_acc: 0.8715\n",
            "Epoch 12/20\n",
            "49/49 [==============================] - 1s 28ms/step - loss: 0.1985 - acc: 0.9534 - val_loss: 0.3840 - val_acc: 0.8758\n",
            "Epoch 13/20\n",
            "49/49 [==============================] - 1s 26ms/step - loss: 0.1988 - acc: 0.9526 - val_loss: 0.3887 - val_acc: 0.8729\n",
            "Epoch 14/20\n",
            "49/49 [==============================] - 1s 26ms/step - loss: 0.1973 - acc: 0.9516 - val_loss: 0.4039 - val_acc: 0.8715\n",
            "Epoch 15/20\n",
            "49/49 [==============================] - 1s 26ms/step - loss: 0.1926 - acc: 0.9535 - val_loss: 0.4090 - val_acc: 0.8692\n",
            "Epoch 16/20\n",
            "49/49 [==============================] - 1s 26ms/step - loss: 0.1981 - acc: 0.9483 - val_loss: 0.4072 - val_acc: 0.8709\n",
            "Epoch 17/20\n",
            "49/49 [==============================] - 1s 26ms/step - loss: 0.1927 - acc: 0.9531 - val_loss: 0.4452 - val_acc: 0.8626\n",
            "Epoch 18/20\n",
            "49/49 [==============================] - 1s 26ms/step - loss: 0.1967 - acc: 0.9500 - val_loss: 0.4117 - val_acc: 0.8711\n",
            "Epoch 19/20\n",
            "49/49 [==============================] - 1s 26ms/step - loss: 0.1903 - acc: 0.9530 - val_loss: 0.4235 - val_acc: 0.8653\n",
            "Epoch 20/20\n",
            "49/49 [==============================] - 1s 26ms/step - loss: 0.1883 - acc: 0.9541 - val_loss: 0.4477 - val_acc: 0.8631\n"
          ],
          "name": "stdout"
        }
      ]
    },
    {
      "cell_type": "markdown",
      "metadata": {
        "id": "p3FqcEWSogvK"
      },
      "source": [
        "## Exercise 14"
      ]
    },
    {
      "cell_type": "code",
      "metadata": {
        "colab": {
          "base_uri": "https://localhost:8080/"
        },
        "id": "yTMIX_OTordE",
        "outputId": "ab442b4d-e5d4-4cc8-aaba-432b57a45d8d"
      },
      "source": [
        "l2_model_val_loss = l2_model_hist.history['val_loss']\n",
        "\n",
        "plt.plot(epochs, original_val_loss, 'b+', label='Original model')\n",
        "plt.plot(epochs, l2_model_val_loss, 'bo', label='L2-regularized model')\n",
        "plt.xlabel('Epochs')\n",
        "plt.ylabel('Validation loss')\n",
        "plt.legend()\n",
        "plt.show()"
      ],
      "execution_count": null,
      "outputs": [
        {
          "output_type": "display_data",
          "data": {
            "image/png": "[encoded data removed]",
            "text/plain": [
              "<Figure size 432x288 with 1 Axes>"
            ]
          },
          "metadata": {
            "tags": [],
            "needs_background": "light"
          }
        }
      ]
    },
    {
      "cell_type": "markdown",
      "metadata": {
        "id": "hKlPpo9fo-R9"
      },
      "source": [
        "We can see that the model with L2 regularization (dots) has become much more resistant to overfitting than the reference model (crosses), \n",
        "even though both models have the same number of parameters."
      ]
    },
    {
      "cell_type": "markdown",
      "metadata": {
        "id": "KNxt8aM8pFd4"
      },
      "source": [
        "## Exercise 15"
      ]
    },
    {
      "cell_type": "code",
      "metadata": {
        "id": "4jfzIjV5pWEY"
      },
      "source": [
        "dpt_model = keras.Sequential([\n",
        "    keras.layers.Dense(16, activation='relu', input_shape=(10000,)),\n",
        "    keras.layers.Dropout(0.5),\n",
        "    keras.layers.Dense(16, activation='relu'),\n",
        "    keras.layers.Dropout(0.5),\n",
        "    keras.layers.Dense(1, activation='sigmoid')\n",
        "])\n",
        "\n",
        "dpt_model.compile(optimizer='rmsprop',\n",
        "                  loss='binary_crossentropy',\n",
        "                  metrics=['acc'])"
      ],
      "execution_count": null,
      "outputs": []
    },
    {
      "cell_type": "markdown",
      "metadata": {
        "id": "ytnwarzmpbf4"
      },
      "source": [
        "## Exercise 16"
      ]
    },
    {
      "cell_type": "code",
      "metadata": {
        "colab": {
          "base_uri": "https://localhost:8080/"
        },
        "id": "tQ2ULP-Ypc8c",
        "outputId": "7a9a039c-22a3-427f-a7b4-e5da37c46d24"
      },
      "source": [
        "dpt_hist = dpt_model.fit(x_train, y_train,\n",
        "                               epochs=20,\n",
        "                               batch_size=512,\n",
        "                               validation_data=(x_test, y_test))"
      ],
      "execution_count": null,
      "outputs": [
        {
          "output_type": "stream",
          "text": [
            "Epoch 1/20\n",
            "49/49 [==============================] - 3s 34ms/step - loss: 0.6404 - acc: 0.6176 - val_loss: 0.4469 - val_acc: 0.8656\n",
            "Epoch 2/20\n",
            "49/49 [==============================] - 2s 31ms/step - loss: 0.4659 - acc: 0.7961 - val_loss: 0.3377 - val_acc: 0.8788\n",
            "Epoch 3/20\n",
            "49/49 [==============================] - 2s 31ms/step - loss: 0.3750 - acc: 0.8528 - val_loss: 0.2944 - val_acc: 0.8889\n",
            "Epoch 4/20\n",
            "49/49 [==============================] - 2s 31ms/step - loss: 0.3063 - acc: 0.8900 - val_loss: 0.2774 - val_acc: 0.8909\n",
            "Epoch 5/20\n",
            "49/49 [==============================] - 1s 30ms/step - loss: 0.2713 - acc: 0.9088 - val_loss: 0.2795 - val_acc: 0.8893\n",
            "Epoch 6/20\n",
            "49/49 [==============================] - 2s 31ms/step - loss: 0.2396 - acc: 0.9196 - val_loss: 0.3105 - val_acc: 0.8814\n",
            "Epoch 7/20\n",
            "49/49 [==============================] - 2s 32ms/step - loss: 0.2180 - acc: 0.9268 - val_loss: 0.2957 - val_acc: 0.8874\n",
            "Epoch 8/20\n",
            "49/49 [==============================] - 1s 30ms/step - loss: 0.2017 - acc: 0.9349 - val_loss: 0.3194 - val_acc: 0.8861\n",
            "Epoch 9/20\n",
            "49/49 [==============================] - 1s 30ms/step - loss: 0.1819 - acc: 0.9362 - val_loss: 0.3348 - val_acc: 0.8849\n",
            "Epoch 10/20\n",
            "49/49 [==============================] - 2s 31ms/step - loss: 0.1691 - acc: 0.9434 - val_loss: 0.3685 - val_acc: 0.8817\n",
            "Epoch 11/20\n",
            "49/49 [==============================] - 2s 31ms/step - loss: 0.1605 - acc: 0.9456 - val_loss: 0.4007 - val_acc: 0.8792\n",
            "Epoch 12/20\n",
            "49/49 [==============================] - 2s 32ms/step - loss: 0.1550 - acc: 0.9495 - val_loss: 0.4102 - val_acc: 0.8801\n",
            "Epoch 13/20\n",
            "49/49 [==============================] - 2s 31ms/step - loss: 0.1402 - acc: 0.9559 - val_loss: 0.4427 - val_acc: 0.8762\n",
            "Epoch 14/20\n",
            "49/49 [==============================] - 2s 31ms/step - loss: 0.1414 - acc: 0.9531 - val_loss: 0.4341 - val_acc: 0.8771\n",
            "Epoch 15/20\n",
            "49/49 [==============================] - 2s 32ms/step - loss: 0.1312 - acc: 0.9600 - val_loss: 0.4798 - val_acc: 0.8780\n",
            "Epoch 16/20\n",
            "49/49 [==============================] - 1s 30ms/step - loss: 0.1259 - acc: 0.9578 - val_loss: 0.4732 - val_acc: 0.8746\n",
            "Epoch 17/20\n",
            "49/49 [==============================] - 1s 31ms/step - loss: 0.1368 - acc: 0.9561 - val_loss: 0.5024 - val_acc: 0.8757\n",
            "Epoch 18/20\n",
            "49/49 [==============================] - 2s 32ms/step - loss: 0.1240 - acc: 0.9593 - val_loss: 0.5378 - val_acc: 0.8776\n",
            "Epoch 19/20\n",
            "49/49 [==============================] - 2s 31ms/step - loss: 0.1190 - acc: 0.9593 - val_loss: 0.5358 - val_acc: 0.8748\n",
            "Epoch 20/20\n",
            "49/49 [==============================] - 1s 30ms/step - loss: 0.1247 - acc: 0.9600 - val_loss: 0.5665 - val_acc: 0.8746\n"
          ],
          "name": "stdout"
        }
      ]
    },
    {
      "cell_type": "markdown",
      "metadata": {
        "id": "UtDnBWORps9z"
      },
      "source": [
        "## Exercise 17"
      ]
    },
    {
      "cell_type": "code",
      "metadata": {
        "colab": {
          "base_uri": "https://localhost:8080/"
        },
        "id": "crP28mF7puRw",
        "outputId": "c0d5df68-e0f6-42f4-fe2b-9f402fc1fdff"
      },
      "source": [
        "dpt_model_val_loss = dpt_hist.history['val_loss']\n",
        "\n",
        "plt.plot(epochs, original_val_loss, 'b+', label='Original model')\n",
        "plt.plot(epochs, dpt_model_val_loss, 'bo', label='Dropout-regularized model')\n",
        "plt.xlabel('Epochs')\n",
        "plt.ylabel('Validation loss')\n",
        "plt.legend()\n",
        "plt.show()"
      ],
      "execution_count": null,
      "outputs": [
        {
          "output_type": "display_data",
          "data": {
            "image/png": "[encoded data removed]",
            "text/plain": [
              "<Figure size 432x288 with 1 Axes>"
            ]
          },
          "metadata": {
            "tags": [],
            "needs_background": "light"
          }
        }
      ]
    },
    {
      "cell_type": "markdown",
      "metadata": {
        "id": "eRgymbL5qD5-"
      },
      "source": [
        "We can see a clear improvement with this new model.  \n",
        "We conclude that the most common ways to prevent overfitting in neural networks are the following:\n",
        "- Getting more training data.\n",
        "- Reducing the capacity of the network.\n",
        "- Adding weight regularization.\n",
        "- Adding dropout."
      ]
    },
    {
      "cell_type": "markdown",
      "metadata": {
        "id": "TDReOKAHqh60"
      },
      "source": [
        "# Part 2"
      ]
    },
    {
      "cell_type": "markdown",
      "metadata": {
        "id": "a-0_NabnqjFk"
      },
      "source": [
        "## Exercise 1"
      ]
    },
    {
      "cell_type": "code",
      "metadata": {
        "colab": {
          "base_uri": "https://localhost:8080/"
        },
        "id": "Yo6t4TQ2hAag",
        "outputId": "e4d030ee-cee4-45cb-d7ac-bc37dc144abe"
      },
      "source": [
        "try :\n",
        "# %tensorflow_version only exists in Colab.\n",
        "  %tensorflow_version 2.x\n",
        "except Exception :\n",
        "  pass\n",
        "from keras . datasets import boston_housing\n",
        "\n",
        "(train_data, train_targets), (test_data, test_targets) = boston_housing.load_data()\n",
        "print(\"The train_data size is\", len(train_data), \"and the test_data size is\", len(test_data))\n",
        "print(\"The train_data shape is\", train_data.shape, \"and the test_data shape is\", test_data.shape)\n",
        "print(\"Here is the median value of the first owner-occupied homes (in thousands of dollars) :\", train_targets[0])"
      ],
      "execution_count": null,
      "outputs": [
        {
          "output_type": "stream",
          "text": [
            "The train_data size is 404 and the test_data size is 102\n",
            "The train_data shape is (404, 13) and the test_data shape is (102, 13)\n",
            "Here is the median value of the first owner-occupied homes (in thousands of dollars) : 15.2\n"
          ],
          "name": "stdout"
        }
      ]
    },
    {
      "cell_type": "markdown",
      "metadata": {
        "id": "wovJb02iiHfW"
      },
      "source": [
        "## Exercise 2"
      ]
    },
    {
      "cell_type": "code",
      "metadata": {
        "id": "aPx_4gadiMxn"
      },
      "source": [
        "mean = train_data.mean(axis=0)\n",
        "train_data -= mean\n",
        "test_data -= mean\n",
        "std = train_data.std(axis=0)\n",
        "train_data /= std\n",
        "test_data /= std"
      ],
      "execution_count": null,
      "outputs": []
    },
    {
      "cell_type": "markdown",
      "metadata": {
        "id": "cmQA-KSiizM1"
      },
      "source": [
        "In this way the feature is centered around 0 and has a unit standard deviation."
      ]
    },
    {
      "cell_type": "markdown",
      "metadata": {
        "id": "fVCR9Ux8itwe"
      },
      "source": [
        "## Exercise 3"
      ]
    },
    {
      "cell_type": "code",
      "metadata": {
        "id": "1TthHcbMi1lQ"
      },
      "source": [
        "import tensorflow as tf\n",
        "from tensorflow import keras\n",
        "from keras import layers\n",
        "from keras import models\n",
        "\n",
        "def build_model():\n",
        "  model = keras.Sequential([\n",
        "    keras.layers.Dense(64, activation='relu', input_shape=(train_data.shape[1],)),\n",
        "    keras.layers.Dense(64, activation='relu'),\n",
        "    keras.layers.Dense(1)\n",
        "])\n",
        "  model.compile(optimizer='rmsprop', loss='mse', metrics=['mae'])\n",
        "  return model"
      ],
      "execution_count": null,
      "outputs": []
    },
    {
      "cell_type": "markdown",
      "metadata": {
        "id": "0-vD1ngdjR2H"
      },
      "source": [
        "## Exercise 4"
      ]
    },
    {
      "cell_type": "code",
      "metadata": {
        "colab": {
          "base_uri": "https://localhost:8080/"
        },
        "id": "Qr1su1rijTDH",
        "outputId": "db3da333-a0b8-4c72-a66c-c1aa605042c9"
      },
      "source": [
        "import numpy as np\n",
        "k = 4\n",
        "num_val_samples = len(train_data) // k\n",
        "num_epochs = 100\n",
        "all_scores = []\n",
        "for i in range(k):\n",
        "  print('processing fold #', i)\n",
        "  val_data = train_data[i * num_val_samples: (i + 1) * num_val_samples]\n",
        "  val_targets = train_targets[i * num_val_samples: (i + 1) * num_val_samples]\n",
        "  partial_train_data = np.concatenate([train_data[:i * num_val_samples], train_data[(i + 1) * num_val_samples:]], axis=0)\n",
        "  partial_train_targets = np.concatenate([train_targets[:i * num_val_samples], train_targets[(i + 1) * num_val_samples:]], axis=0)\n",
        "  model = build_model()\n",
        "  model.fit(partial_train_data, partial_train_targets, epochs=num_epochs, batch_size=1, verbose=0)\n",
        "  val_mse, val_mae = model.evaluate(val_data, val_targets, verbose=1) \n",
        "  all_scores.append(val_mae)"
      ],
      "execution_count": null,
      "outputs": [
        {
          "output_type": "stream",
          "text": [
            "processing fold # 0\n",
            "4/4 [==============================] - 0s 3ms/step - loss: 8.4824 - mae: 1.9388\n",
            "processing fold # 1\n",
            "4/4 [==============================] - 0s 2ms/step - loss: 31.4877 - mae: 3.7097\n",
            "processing fold # 2\n",
            "4/4 [==============================] - 0s 2ms/step - loss: 17.4626 - mae: 2.9804\n",
            "processing fold # 3\n",
            "4/4 [==============================] - 0s 2ms/step - loss: 11.9999 - mae: 2.4941\n"
          ],
          "name": "stdout"
        }
      ]
    },
    {
      "cell_type": "markdown",
      "metadata": {
        "id": "tNIqOVHAkSLt"
      },
      "source": [
        "## Exercise 5"
      ]
    },
    {
      "cell_type": "code",
      "metadata": {
        "colab": {
          "base_uri": "https://localhost:8080/"
        },
        "id": "jp1e2Jy8kTb2",
        "outputId": "b464acf6-aaf3-47a9-ed84-75a874d5847a"
      },
      "source": [
        "print(all_scores)\n",
        "np.mean(all_scores)"
      ],
      "execution_count": null,
      "outputs": [
        {
          "output_type": "stream",
          "text": [
            "[1.9388014078140259, 3.709718942642212, 2.9804084300994873, 2.4941015243530273]\n"
          ],
          "name": "stdout"
        },
        {
          "output_type": "execute_result",
          "data": {
            "text/plain": [
              "2.780757576227188"
            ]
          },
          "metadata": {
            "tags": []
          },
          "execution_count": 8
        }
      ]
    },
    {
      "cell_type": "markdown",
      "metadata": {
        "id": "xl8U0KkPkYgv"
      },
      "source": [
        "## Exercise 6"
      ]
    },
    {
      "cell_type": "code",
      "metadata": {
        "colab": {
          "base_uri": "https://localhost:8080/"
        },
        "id": "o-k3LvgMkZwj",
        "outputId": "11b469cb-c397-43b6-c400-2dfe704723b8"
      },
      "source": [
        "num_epochs = 500\n",
        "all_mae_history_train = []\n",
        "all_mae_histories = []\n",
        "for i in range(k):\n",
        "  print('processing fold #', i)\n",
        "  val_data = train_data[i * num_val_samples: (i + 1) * num_val_samples]\n",
        "  val_targets = train_targets[i * num_val_samples: (i + 1) * num_val_samples]\n",
        "  partial_train_data = np.concatenate([train_data[:i * num_val_samples], train_data[(i + 1) * num_val_samples:]], axis=0)\n",
        "  partial_train_targets = np.concatenate([train_targets[:i * num_val_samples], train_targets[(i + 1) * num_val_samples:]], axis=0)\n",
        "  model = build_model()\n",
        "  history = model.fit(partial_train_data, partial_train_targets, validation_data=(val_data, val_targets), epochs=num_epochs, batch_size=1, verbose=0)\n",
        "  mae_history = history.history['val_mae']\n",
        "  mae_history_train = history.history['mae']\n",
        "  print(mae_history_train)\n",
        "  all_mae_history_train.append(mae_history_train)\n",
        "  all_mae_histories.append(mae_history)"
      ],
      "execution_count": null,
      "outputs": [
        {
          "output_type": "stream",
          "text": [
            "processing fold # 0\n",
            "[10.428897857666016, 3.7943179607391357, 3.2296698093414307, 2.815258264541626, 2.62591814994812, 2.592055082321167, 2.5357367992401123, 2.439985513687134, 2.3653812408447266, 2.3792717456817627, 2.2804348468780518, 2.2352287769317627, 2.25079345703125, 2.17292857170105, 2.182953357696533, 2.1621270179748535, 2.107107639312744, 2.0728814601898193, 2.1202890872955322, 2.0593061447143555, 2.0743935108184814, 1.9904311895370483, 2.003239870071411, 1.9540385007858276, 2.0076534748077393, 2.029946804046631, 1.955426812171936, 2.0254015922546387, 1.9491301774978638, 1.9283334016799927, 1.8916795253753662, 1.8443697690963745, 1.8629693984985352, 1.915870189666748, 1.8419638872146606, 1.8493964672088623, 1.7742140293121338, 1.862583875656128, 1.852779746055603, 1.8492729663848877, 1.782726764678955, 1.7793833017349243, 1.8042281866073608, 1.7842669486999512, 1.8263825178146362, 1.7856816053390503, 1.7639540433883667, 1.8165124654769897, 1.7721434831619263, 1.691203236579895, 1.7032079696655273, 1.7226463556289673, 1.751575231552124, 1.7164907455444336, 1.715358853340149, 1.6968016624450684, 1.6760841608047485, 1.5704121589660645, 1.748014211654663, 1.6312787532806396, 1.62808096408844, 1.693996548652649, 1.6173958778381348, 1.6555452346801758, 1.604614019393921, 1.615060806274414, 1.6085004806518555, 1.6462395191192627, 1.6405746936798096, 1.577662467956543, 1.5668675899505615, 1.5365474224090576, 1.5899356603622437, 1.5670653581619263, 1.5436910390853882, 1.4731467962265015, 1.5342878103256226, 1.5214462280273438, 1.5210011005401611, 1.5564818382263184, 1.461958885192871, 1.536064624786377, 1.5181838274002075, 1.441444754600525, 1.5021334886550903, 1.4571497440338135, 1.4479467868804932, 1.486207365989685, 1.4123085737228394, 1.41896653175354, 1.4091180562973022, 1.4212403297424316, 1.43986976146698, 1.4035604000091553, 1.4233466386795044, 1.4015885591506958, 1.4000052213668823, 1.421417474746704, 1.3784242868423462, 1.3616368770599365, 1.376872181892395, 1.3367007970809937, 1.4040913581848145, 1.3043686151504517, 1.3728985786437988, 1.3799246549606323, 1.3813209533691406, 1.369289755821228, 1.2914949655532837, 1.3203853368759155, 1.3981170654296875, 1.3340685367584229, 1.3230922222137451, 1.2293139696121216, 1.3639742136001587, 1.2835710048675537, 1.3410861492156982, 1.289446473121643, 1.318835973739624, 1.2643173933029175, 1.2617132663726807, 1.2742795944213867, 1.3304595947265625, 1.2937638759613037, 1.289138913154602, 1.2206463813781738, 1.310295820236206, 1.2830215692520142, 1.2853608131408691, 1.309225082397461, 1.3003780841827393, 1.2397419214248657, 1.2619391679763794, 1.2326381206512451, 1.2423754930496216, 1.2485549449920654, 1.2288601398468018, 1.2014867067337036, 1.279341220855713, 1.2169933319091797, 1.2370120286941528, 1.252923607826233, 1.2715989351272583, 1.1673805713653564, 1.2025240659713745, 1.2190957069396973, 1.223992109298706, 1.213503360748291, 1.219436526298523, 1.2166290283203125, 1.2563401460647583, 1.2793192863464355, 1.1876965761184692, 1.2441818714141846, 1.148736834526062, 1.177445888519287, 1.1656177043914795, 1.1706560850143433, 1.188707709312439, 1.1781386137008667, 1.1317375898361206, 1.1981542110443115, 1.1643078327178955, 1.175614833831787, 1.1709184646606445, 1.1852322816848755, 1.0927187204360962, 1.1990211009979248, 1.1722285747528076, 1.1567680835723877, 1.1402257680892944, 1.1234544515609741, 1.1594130992889404, 1.1522278785705566, 1.153278112411499, 1.1225666999816895, 1.1610581874847412, 1.1105639934539795, 1.1466230154037476, 1.1083611249923706, 1.1810208559036255, 1.0884983539581299, 1.1257054805755615, 1.1135880947113037, 1.0724211931228638, 1.0674198865890503, 1.0755224227905273, 1.1076579093933105, 1.1142375469207764, 1.1126888990402222, 1.0927278995513916, 1.0847575664520264, 1.1331524848937988, 1.1012943983078003, 1.0769187211990356, 1.1390974521636963, 1.1036297082901, 1.0493286848068237, 1.0841453075408936, 1.0939818620681763, 1.074318289756775, 1.0573242902755737, 1.1047252416610718, 1.0625749826431274, 1.0611627101898193, 1.111134648323059, 1.032989501953125, 1.1019372940063477, 1.0937061309814453, 1.0216124057769775, 1.0036677122116089, 1.052577018737793, 1.091255784034729, 1.0608506202697754, 1.0601965188980103, 1.0394320487976074, 1.027340292930603, 1.0111291408538818, 1.0048941373825073, 1.0888911485671997, 1.0483272075653076, 1.0859133005142212, 1.0327985286712646, 1.039817214012146, 1.0493251085281372, 1.0431667566299438, 1.046291708946228, 1.0344526767730713, 1.0566916465759277, 1.0364022254943848, 1.0299973487854004, 1.059277057647705, 1.032469630241394, 1.0305842161178589, 1.0217205286026, 1.018985629081726, 0.9871275424957275, 1.0493956804275513, 1.0033756494522095, 1.0508607625961304, 1.006946325302124, 1.066956639289856, 0.9483098983764648, 1.0194402933120728, 1.0145131349563599, 0.9927030801773071, 0.972864031791687, 1.0022708177566528, 1.0052220821380615, 0.9872347712516785, 1.0187734365463257, 0.9922747015953064, 0.9751756191253662, 0.9616675972938538, 1.0035650730133057, 0.9539889693260193, 0.8954442739486694, 1.0442901849746704, 1.0095927715301514, 0.9496280550956726, 0.9659821391105652, 0.9379076957702637, 0.9462427496910095, 0.9865464568138123, 0.9488224387168884, 0.9905088543891907, 0.9461630582809448, 0.9379686117172241, 0.9887016415596008, 0.9846771359443665, 0.9714881181716919, 0.9347439408302307, 0.9739001393318176, 0.9387127757072449, 0.9320664405822754, 0.9030142426490784, 0.8986604809761047, 0.9075750708580017, 0.8918679356575012, 0.9067932963371277, 0.9389533400535583, 0.9327009916305542, 0.8969315886497498, 0.9320048093795776, 0.8916404247283936, 0.9009812474250793, 0.9654701948165894, 0.9079594016075134, 0.9306504726409912, 0.9373539686203003, 0.8847813606262207, 0.9117137789726257, 0.9022263288497925, 0.8804734945297241, 0.9165735244750977, 0.89247065782547, 0.9221433401107788, 0.8709861040115356, 0.8764419555664062, 0.928600549697876, 0.8916215896606445, 0.8797541856765747, 0.8747069835662842, 0.84123694896698, 0.8556809425354004, 0.9651912450790405, 0.8875046372413635, 0.8870931267738342, 0.8605730533599854, 0.8982800841331482, 0.8433853387832642, 0.8885465860366821, 0.9150568842887878, 0.8559885621070862, 0.8687938451766968, 0.9275721907615662, 0.9147198796272278, 0.8364827632904053, 0.854880154132843, 0.8861965537071228, 0.8758016228675842, 0.9034652709960938, 0.8762538433074951, 0.8323084712028503, 0.8776258230209351, 0.8687700033187866, 0.8586797714233398, 0.8582801818847656, 0.8485307097434998, 0.8562440872192383, 0.8072029948234558, 0.8292344808578491, 0.831699550151825, 0.8829675912857056, 0.8114802837371826, 0.8779985904693604, 0.8683175444602966, 0.7697046995162964, 0.8349267840385437, 0.8533143997192383, 0.8368935585021973, 0.8134505152702332, 0.8509302139282227, 0.8298487067222595, 0.8541823625564575, 0.8261110186576843, 0.8307815790176392, 0.7945122718811035, 0.799560546875, 0.8440893292427063, 0.8291016817092896, 0.8524726033210754, 0.830965518951416, 0.8328489065170288, 0.7916069626808167, 0.854168176651001, 0.8036068081855774, 0.7847252488136292, 0.7979211211204529, 0.8218885064125061, 0.8562639355659485, 0.8137133717536926, 0.8257095813751221, 0.8314971923828125, 0.8227034211158752, 0.7926949262619019, 0.8124316334724426, 0.8184928297996521, 0.7615220546722412, 0.7901430130004883, 0.8080974817276001, 0.7839775681495667, 0.815442681312561, 0.8079286813735962, 0.8143550753593445, 0.7542377710342407, 0.7659137845039368, 0.8009470105171204, 0.8130248188972473, 0.7513601183891296, 0.8637089133262634, 0.7414870858192444, 0.8121901750564575, 0.7686120271682739, 0.789953351020813, 0.7621984481811523, 0.7826599478721619, 0.7377902865409851, 0.8658072352409363, 0.7673582434654236, 0.7431294918060303, 0.7612882852554321, 0.7206360697746277, 0.7878444194793701, 0.735262393951416, 0.7581340670585632, 0.7908287048339844, 0.8131400346755981, 0.7901040315628052, 0.7704113125801086, 0.827947735786438, 0.7963180541992188, 0.782468318939209, 0.7568178176879883, 0.7869310975074768, 0.7754790782928467, 0.7661823034286499, 0.7335518598556519, 0.7615431547164917, 0.7216469645500183, 0.7411039471626282, 0.7332378029823303, 0.8115267157554626, 0.7852737903594971, 0.7425351142883301, 0.738544225692749, 0.7591060996055603, 0.737865149974823, 0.8015487194061279, 0.7159868478775024, 0.7553428411483765, 0.7866949439048767, 0.7750560641288757, 0.7322130799293518, 0.692134439945221, 0.6924752593040466, 0.7623547911643982, 0.7273262739181519, 0.7295949459075928, 0.763504683971405, 0.7314961552619934, 0.7619694471359253, 0.7379204630851746, 0.7594023942947388, 0.7449114918708801, 0.7641528248786926, 0.7392247915267944, 0.6990063190460205, 0.7068741321563721, 0.7899585962295532, 0.706591010093689, 0.7464832067489624, 0.7222246527671814, 0.7684076428413391, 0.7749898433685303, 0.7514525651931763, 0.7093465328216553, 0.751098096370697, 0.7221572399139404, 0.7405619621276855, 0.7148931622505188, 0.7263376116752625, 0.7218571305274963, 0.6871942281723022, 0.7551971673965454, 0.7274610996246338, 0.7274672985076904, 0.7365282773971558, 0.7110806107521057, 0.7072075009346008, 0.707241952419281, 0.7356845140457153, 0.6899226903915405, 0.7406880855560303, 0.6682581901550293, 0.7183204889297485, 0.7004867196083069, 0.7186813354492188, 0.7379598021507263, 0.7298767566680908, 0.7406588792800903, 0.691950798034668, 0.7093064785003662, 0.7149072289466858, 0.6840662360191345, 0.7335323691368103, 0.6687906384468079, 0.7055090665817261, 0.7244065403938293, 0.6956456303596497, 0.7051896452903748, 0.6929857730865479, 0.6980280876159668, 0.6909066438674927, 0.6631380915641785, 0.6986331939697266, 0.7004698514938354, 0.7334032654762268, 0.6996445655822754, 0.6893843412399292, 0.7030454874038696, 0.6890507340431213, 0.6861785650253296, 0.6787105202674866, 0.6480352282524109, 0.6939213871955872, 0.7040907144546509, 0.696018397808075, 0.6527659893035889, 0.6767459511756897]\n",
            "processing fold # 1\n",
            "[10.725848197937012, 3.6612319946289062, 3.0213959217071533, 2.762484312057495, 2.4996750354766846, 2.4347047805786133, 2.298835277557373, 2.2433619499206543, 2.1346306800842285, 2.145981788635254, 2.132838249206543, 2.0918421745300293, 2.0733375549316406, 2.038109540939331, 2.0687789916992188, 2.0437910556793213, 1.9440374374389648, 1.9272797107696533, 1.9995900392532349, 1.9733121395111084, 1.9649953842163086, 1.9249290227890015, 1.87582266330719, 1.9426108598709106, 1.8713136911392212, 1.9518364667892456, 1.9287302494049072, 1.8991448879241943, 1.8654919862747192, 1.8755724430084229, 1.812930703163147, 1.8693389892578125, 1.7803165912628174, 1.8272594213485718, 1.7743091583251953, 1.7519773244857788, 1.798793911933899, 1.792834758758545, 1.757172703742981, 1.7943397760391235, 1.7730549573898315, 1.7514417171478271, 1.7187026739120483, 1.6983370780944824, 1.7124567031860352, 1.7340257167816162, 1.7555139064788818, 1.7591713666915894, 1.7528014183044434, 1.7046570777893066, 1.6908364295959473, 1.6725473403930664, 1.5791760683059692, 1.6732388734817505, 1.687867522239685, 1.649611234664917, 1.6279815435409546, 1.6192080974578857, 1.6145321130752563, 1.6032146215438843, 1.6098374128341675, 1.526890516281128, 1.536574363708496, 1.5513023138046265, 1.6037700176239014, 1.6085065603256226, 1.5282657146453857, 1.5772335529327393, 1.5513144731521606, 1.5455307960510254, 1.4897304773330688, 1.566872239112854, 1.4301841259002686, 1.5062618255615234, 1.4712742567062378, 1.5100654363632202, 1.4726274013519287, 1.4397811889648438, 1.4782841205596924, 1.4813644886016846, 1.385855793952942, 1.400173306465149, 1.3664891719818115, 1.4156802892684937, 1.434382438659668, 1.3549587726593018, 1.36451256275177, 1.379272222518921, 1.3837109804153442, 1.3516143560409546, 1.3656762838363647, 1.3705483675003052, 1.3712486028671265, 1.3568036556243896, 1.3780711889266968, 1.2999557256698608, 1.2987382411956787, 1.2892717123031616, 1.279511570930481, 1.2923434972763062, 1.2716073989868164, 1.2832280397415161, 1.2230565547943115, 1.3014718294143677, 1.308095932006836, 1.2788175344467163, 1.2648019790649414, 1.2408488988876343, 1.2728705406188965, 1.2172006368637085, 1.1696715354919434, 1.255106806755066, 1.2429555654525757, 1.1796901226043701, 1.2224202156066895, 1.2627499103546143, 1.1886519193649292, 1.1993696689605713, 1.215264081954956, 1.2346221208572388, 1.2024571895599365, 1.2086859941482544, 1.1305183172225952, 1.150498628616333, 1.1690998077392578, 1.1741199493408203, 1.1726254224777222, 1.1577599048614502, 1.1200430393218994, 1.2266522645950317, 1.100701928138733, 1.1695035696029663, 1.1265738010406494, 1.1668787002563477, 1.1224230527877808, 1.086181402206421, 1.1165752410888672, 1.149153232574463, 1.0924582481384277, 1.136459469795227, 1.1439100503921509, 1.0757359266281128, 1.1163029670715332, 1.0387513637542725, 1.0790349245071411, 1.10794198513031, 1.1054041385650635, 1.0054843425750732, 1.116889238357544, 1.066929578781128, 1.0879837274551392, 1.0647073984146118, 1.0202062129974365, 1.0210282802581787, 1.0950783491134644, 1.0572844743728638, 1.0301885604858398, 1.0813688039779663, 1.0230053663253784, 1.0477343797683716, 1.0321545600891113, 1.0541422367095947, 1.0638407468795776, 1.103449821472168, 1.0668803453445435, 1.0067068338394165, 0.9935511350631714, 1.0024925470352173, 0.9875665307044983, 1.0587143898010254, 1.0128819942474365, 1.0113697052001953, 0.9542718529701233, 0.9954847097396851, 1.042595386505127, 1.0046372413635254, 1.0426074266433716, 1.0458557605743408, 0.9822152853012085, 0.9968416690826416, 1.0304237604141235, 0.9890706539154053, 0.9459476470947266, 0.9782742857933044, 1.0071016550064087, 0.9902408123016357, 0.9253093004226685, 0.9239687323570251, 1.0087807178497314, 0.9599029421806335, 0.9782592058181763, 0.9624265432357788, 0.9532162547111511, 0.9444406628608704, 0.9189988970756531, 0.9130004048347473, 0.9695460796356201, 0.9208285212516785, 0.9129543900489807, 0.9240633249282837, 0.9212241768836975, 0.9734232425689697, 0.9214677214622498, 0.9296104311943054, 0.9090048670768738, 0.9226556420326233, 0.9538878202438354, 0.8991353511810303, 0.9061764478683472, 0.9000772833824158, 0.8970922827720642, 0.9503499865531921, 0.9223686456680298, 0.8971412777900696, 0.9113784432411194, 0.9272156953811646, 0.8675804138183594, 0.8982774615287781, 0.9097323417663574, 0.8716147541999817, 0.8967903852462769, 0.8437088131904602, 0.8884720206260681, 0.9037180542945862, 0.8514132499694824, 0.9151232838630676, 0.8705546855926514, 0.8329890966415405, 0.8650109767913818, 0.9034759402275085, 0.8971112370491028, 0.8694176077842712, 0.8838505148887634, 0.8191692233085632, 0.8601452708244324, 0.8460354208946228, 0.8380849957466125, 0.8841830492019653, 0.8656508326530457, 0.8519073724746704, 0.8344335556030273, 0.8259850144386292, 0.8290202617645264, 0.8501230478286743, 0.7961715459823608, 0.8292611241340637, 0.8076331615447998, 0.8102589845657349, 0.8179399967193604, 0.8217551112174988, 0.8333777785301208, 0.8609724044799805, 0.7897529006004333, 0.8239802122116089, 0.8686342239379883, 0.7957040071487427, 0.8392452001571655, 0.8303102850914001, 0.810454249382019, 0.8028412461280823, 0.8274775147438049, 0.8063960075378418, 0.8488919734954834, 0.798335611820221, 0.8219665884971619, 0.8332647085189819, 0.7815608382225037, 0.7773455381393433, 0.8062748312950134, 0.7959330081939697, 0.7911656498908997, 0.8433431386947632, 0.810407280921936, 0.7845407724380493, 0.8318371772766113, 0.8162342309951782, 0.7667710781097412, 0.779097318649292, 0.7519906163215637, 0.7706048488616943, 0.751431405544281, 0.7823653817176819, 0.812886655330658, 0.7747999429702759, 0.7715106010437012, 0.7439252138137817, 0.7301125526428223, 0.7979814410209656, 0.8176780939102173, 0.7957502603530884, 0.7060174345970154, 0.7813414335250854, 0.824510931968689, 0.7908197045326233, 0.7736935615539551, 0.7731701731681824, 0.7384182214736938, 0.8322299122810364, 0.7602106928825378, 0.739933431148529, 0.7703630328178406, 0.7358238697052002, 0.7303312420845032, 0.7268863916397095, 0.7830929160118103, 0.7446433305740356, 0.7601868510246277, 0.7154483199119568, 0.7756475210189819, 0.7409366369247437, 0.710124135017395, 0.7153500318527222, 0.7179978489875793, 0.7723599672317505, 0.7280418872833252, 0.7400994300842285, 0.7538019418716431, 0.729022741317749, 0.7554484605789185, 0.6674978137016296, 0.7456640601158142, 0.7576866149902344, 0.7236904501914978, 0.7171147465705872, 0.6997683644294739, 0.7248691916465759, 0.7454822659492493, 0.7314753532409668, 0.72060626745224, 0.6841577887535095, 0.7165700793266296, 0.7304902076721191, 0.7386700510978699, 0.6890098452568054, 0.7351155281066895, 0.7195147275924683, 0.711383044719696, 0.7088702321052551, 0.712386965751648, 0.7673832178115845, 0.6998317241668701, 0.7016265392303467, 0.736377477645874, 0.7016413807868958, 0.7469431161880493, 0.7023213505744934, 0.6964982748031616, 0.7041018009185791, 0.7440345287322998, 0.7168356776237488, 0.7286067605018616, 0.7159661650657654, 0.6943520307540894, 0.7161571979522705, 0.6848354935646057, 0.6804268956184387, 0.7116025686264038, 0.7126777768135071, 0.6618403792381287, 0.7036943435668945, 0.6840035319328308, 0.6794214248657227, 0.6782915592193604, 0.7146475315093994, 0.6956790685653687, 0.7193511128425598, 0.6792734265327454, 0.6705110669136047, 0.7080413699150085, 0.6712636351585388, 0.6836198568344116, 0.635466992855072, 0.6822471022605896, 0.6590914130210876, 0.6775771975517273, 0.7074074745178223, 0.6933616399765015, 0.6907402873039246, 0.6751276850700378, 0.6905477046966553, 0.6648113131523132, 0.6972859501838684, 0.684376060962677, 0.685886561870575, 0.690769374370575, 0.6883736252784729, 0.6756806373596191, 0.6799122095108032, 0.6785844564437866, 0.6635243892669678, 0.6820833086967468, 0.6494845747947693, 0.667580783367157, 0.6914855241775513, 0.6898064017295837, 0.6997216939926147, 0.6737809181213379, 0.6523410081863403, 0.659400463104248, 0.6839205622673035, 0.6585136651992798, 0.6439637541770935, 0.6667863130569458, 0.6696174740791321, 0.6654608845710754, 0.684502124786377, 0.660722553730011, 0.6301795244216919, 0.6998880505561829, 0.6691636443138123, 0.6721946597099304, 0.6376992464065552, 0.6378664374351501, 0.6866135001182556, 0.6356224417686462, 0.6964265704154968, 0.6444857716560364, 0.6405581831932068, 0.6564809083938599, 0.649105429649353, 0.641630232334137, 0.6499184370040894, 0.6169646978378296, 0.6786565780639648, 0.6326475739479065, 0.6747995615005493, 0.6241267323493958, 0.6711127758026123, 0.6602940559387207, 0.6695508360862732, 0.6372706294059753, 0.6507758498191833, 0.6579163074493408, 0.6244936585426331, 0.6506848931312561, 0.6326448917388916, 0.6421309113502502, 0.6475308537483215, 0.6355865001678467, 0.6648609638214111, 0.6435533761978149, 0.6279115080833435, 0.6665011644363403, 0.6109244227409363, 0.6343641877174377, 0.6540297865867615, 0.633326530456543, 0.6626473665237427, 0.6263808608055115, 0.682014524936676, 0.6055117845535278, 0.6966041326522827, 0.657416582107544, 0.5954504013061523, 0.6444331407546997, 0.623144268989563, 0.6470958590507507, 0.6572464108467102, 0.6351008415222168, 0.6213814616203308, 0.6550157070159912, 0.6465053558349609, 0.6288188099861145, 0.6119089722633362, 0.6100371479988098, 0.6555343270301819, 0.6319621205329895, 0.6413529515266418, 0.6102475523948669, 0.5959725379943848, 0.6213356852531433, 0.6500428915023804, 0.6087629199028015, 0.6319840550422668, 0.6374881863594055, 0.6060255169868469, 0.6122382879257202, 0.6086336374282837, 0.6456050872802734, 0.6215565204620361, 0.6379731297492981, 0.6126776933670044, 0.6053315997123718, 0.6202709078788757, 0.6226593255996704, 0.643882155418396, 0.6064508557319641, 0.6200244426727295, 0.6440258622169495, 0.6072262525558472, 0.6186190843582153, 0.6258663535118103, 0.5920493006706238, 0.6512789726257324, 0.5990053415298462, 0.6303837299346924, 0.5875859260559082, 0.6160786151885986, 0.59880131483078, 0.6161394715309143]\n",
            "processing fold # 2\n",
            "[11.279312133789062, 3.6465513706207275, 3.0009660720825195, 2.723876714706421, 2.573575258255005, 2.5215718746185303, 2.3150484561920166, 2.2840187549591064, 2.319091796875, 2.144287586212158, 2.2216036319732666, 2.144794464111328, 2.085327386856079, 2.021146059036255, 2.0122926235198975, 1.9836318492889404, 1.9829460382461548, 1.9100093841552734, 1.9290064573287964, 1.882304072380066, 1.8985612392425537, 1.8491462469100952, 1.862194538116455, 1.8011711835861206, 1.8172786235809326, 1.8131730556488037, 1.7118314504623413, 1.7491153478622437, 1.6886223554611206, 1.7308112382888794, 1.6849547624588013, 1.7014204263687134, 1.6585084199905396, 1.687015175819397, 1.6331676244735718, 1.6439793109893799, 1.6403908729553223, 1.6415510177612305, 1.6180269718170166, 1.48051118850708, 1.6074001789093018, 1.635505199432373, 1.568827509880066, 1.5707770586013794, 1.572221040725708, 1.5133066177368164, 1.5450646877288818, 1.4577627182006836, 1.5108106136322021, 1.4604250192642212, 1.459600567817688, 1.4741023778915405, 1.5058388710021973, 1.4828096628189087, 1.3943639993667603, 1.444714069366455, 1.379438042640686, 1.419830322265625, 1.3895761966705322, 1.4181327819824219, 1.421660304069519, 1.388953447341919, 1.398563027381897, 1.3528177738189697, 1.3829214572906494, 1.3254917860031128, 1.3671246767044067, 1.3866541385650635, 1.3704464435577393, 1.3993443250656128, 1.320729374885559, 1.2695918083190918, 1.3507252931594849, 1.2997435331344604, 1.3048690557479858, 1.2889037132263184, 1.2957935333251953, 1.3072630167007446, 1.3092467784881592, 1.2737475633621216, 1.3037388324737549, 1.275450348854065, 1.2541383504867554, 1.2791569232940674, 1.2347514629364014, 1.2470810413360596, 1.1960651874542236, 1.2526344060897827, 1.2001656293869019, 1.1820827722549438, 1.2541611194610596, 1.1571933031082153, 1.1765652894973755, 1.1995426416397095, 1.1493277549743652, 1.1610467433929443, 1.1771236658096313, 1.1876552104949951, 1.1821610927581787, 1.1536530256271362, 1.10647451877594, 1.1751489639282227, 1.1394098997116089, 1.2148176431655884, 1.1350092887878418, 1.1936951875686646, 1.1355619430541992, 1.1407915353775024, 1.1625292301177979, 1.1869490146636963, 1.105968713760376, 1.111893653869629, 1.152693271636963, 1.0599480867385864, 1.1176286935806274, 1.1017040014266968, 1.0983279943466187, 1.1239811182022095, 1.1149210929870605, 1.1076008081436157, 1.0497714281082153, 1.1349178552627563, 1.0211296081542969, 1.0522788763046265, 1.0077457427978516, 1.1345750093460083, 1.108568549156189, 1.0536152124404907, 1.0947139263153076, 1.0733153820037842, 1.0201120376586914, 1.0814071893692017, 1.0419259071350098, 1.082167625427246, 1.0167315006256104, 1.0506821870803833, 1.0528602600097656, 1.0384434461593628, 1.0475589036941528, 0.9948570132255554, 0.9812230467796326, 1.0058149099349976, 0.978075385093689, 1.0038764476776123, 0.9989821314811707, 1.0423076152801514, 1.0020363330841064, 0.9934234023094177, 0.9991703629493713, 0.9953154921531677, 0.9895967245101929, 0.9449836611747742, 0.9693467617034912, 1.0000932216644287, 0.9724576473236084, 0.9628947377204895, 0.9602185487747192, 0.950493335723877, 0.9617125391960144, 0.9564579725265503, 0.9036237597465515, 0.9569292068481445, 0.9215326309204102, 0.9329245686531067, 0.9148316979408264, 0.8649501204490662, 0.8550404906272888, 0.9296239614486694, 0.9639729261398315, 0.8456273078918457, 0.9345736503601074, 0.9380508065223694, 0.9439471364021301, 0.943619430065155, 0.9299202561378479, 0.9517223834991455, 0.874315619468689, 0.9017974734306335, 0.9084440469741821, 0.8955509066581726, 0.9137037396430969, 0.9328382611274719, 0.898215115070343, 0.8648363351821899, 0.9151992797851562, 0.9145296216011047, 0.9327690601348877, 0.9172616004943848, 0.8649806380271912, 0.8970965147018433, 0.8865541815757751, 0.8571768999099731, 0.8860647082328796, 0.8717175126075745, 0.8919525742530823, 0.8913156986236572, 0.8788928389549255, 0.8499273657798767, 0.8664754033088684, 0.886086642742157, 0.8445355296134949, 0.8418659567832947, 0.8697826266288757, 0.8450825810432434, 0.8690930604934692, 0.812845766544342, 0.8874796628952026, 0.8298566341400146, 0.8377341628074646, 0.8746778964996338, 0.8467181324958801, 0.8454306721687317, 0.8418347239494324, 0.8659126162528992, 0.8885363340377808, 0.798578143119812, 0.8121826648712158, 0.7936809659004211, 0.8398448824882507, 0.8414738774299622, 0.8444693088531494, 0.8415188789367676, 0.8311092257499695, 0.8769879937171936, 0.8564717769622803, 0.8913955092430115, 0.7972071766853333, 0.815720796585083, 0.8639209866523743, 0.8563463091850281, 0.8574652671813965, 0.8301432728767395, 0.7985110878944397, 0.8644837141036987, 0.8629242777824402, 0.7843000292778015, 0.8137577772140503, 0.7861846685409546, 0.8001932501792908, 0.826106607913971, 0.8047821521759033, 0.8257138729095459, 0.7757349610328674, 0.7942256331443787, 0.8562809228897095, 0.7648034691810608, 0.7964136600494385, 0.7968392372131348, 0.8002097010612488, 0.8009008169174194, 0.8058552145957947, 0.7866913080215454, 0.7451003193855286, 0.8207074999809265, 0.7635947465896606, 0.8465611338615417, 0.7920525670051575, 0.7811955213546753, 0.7805526256561279, 0.7525081038475037, 0.7811169028282166, 0.7553418278694153, 0.7794582843780518, 0.7422336935997009, 0.7530248761177063, 0.7784444093704224, 0.7813952565193176, 0.7237004637718201, 0.7855161428451538, 0.7887652516365051, 0.7676325440406799, 0.7285232543945312, 0.7556699514389038, 0.7961981892585754, 0.7843191623687744, 0.8031350374221802, 0.7207328081130981, 0.7408551573753357, 0.7536733150482178, 0.7627698183059692, 0.7260491251945496, 0.7657005786895752, 0.740273654460907, 0.7662030458450317, 0.7557728886604309, 0.7637807726860046, 0.7336422801017761, 0.7796068787574768, 0.7327668070793152, 0.7523257732391357, 0.7129090428352356, 0.7478071451187134, 0.749276876449585, 0.7142975926399231, 0.7147021293640137, 0.7773640751838684, 0.7578229904174805, 0.7456637024879456, 0.7461021542549133, 0.7247536778450012, 0.7492635250091553, 0.6976204514503479, 0.7499632835388184, 0.7128974795341492, 0.7186247110366821, 0.7128711342811584, 0.7679570317268372, 0.7176642417907715, 0.7038187384605408, 0.7371874451637268, 0.7154341340065002, 0.7233679890632629, 0.6929288506507874, 0.6851518750190735, 0.6885192394256592, 0.719634473323822, 0.7047957181930542, 0.7251766324043274, 0.6827065348625183, 0.709647536277771, 0.7109936475753784, 0.7010042071342468, 0.6893467903137207, 0.7133156657218933, 0.7248796820640564, 0.7055122256278992, 0.7534286379814148, 0.6974719166755676, 0.7359179258346558, 0.7022175788879395, 0.7131616473197937, 0.6741922497749329, 0.7221574783325195, 0.711735725402832, 0.7409834265708923, 0.6981510519981384, 0.6778556108474731, 0.691949188709259, 0.7332736253738403, 0.6881238222122192, 0.624540388584137, 0.6844907402992249, 0.7344652414321899, 0.6279572248458862, 0.7070663571357727, 0.6360880732536316, 0.6823055148124695, 0.7118369340896606, 0.6787744164466858, 0.6810865998268127, 0.702163815498352, 0.6320605874061584, 0.7118869423866272, 0.6563849449157715, 0.6892474889755249, 0.631367564201355, 0.6927961707115173, 0.6836516261100769, 0.6983461380004883, 0.6607069969177246, 0.6783946752548218, 0.6977661848068237, 0.6923341155052185, 0.6669543981552124, 0.6552350521087646, 0.6596431732177734, 0.7048391699790955, 0.6879226565361023, 0.6896609663963318, 0.6513209342956543, 0.6768317222595215, 0.6894591450691223, 0.6894459128379822, 0.6579620838165283, 0.6746206879615784, 0.6907219886779785, 0.722933292388916, 0.6704051494598389, 0.6485477685928345, 0.6478566527366638, 0.7013751268386841, 0.6588822603225708, 0.6304027438163757, 0.6691792607307434, 0.6999182105064392, 0.6939533352851868, 0.6485692858695984, 0.6391089558601379, 0.6586103439331055, 0.6426883935928345, 0.696872889995575, 0.6666863560676575, 0.6751449704170227, 0.636169970035553, 0.6609970331192017, 0.6441106200218201, 0.6908210515975952, 0.6417303085327148, 0.6895123720169067, 0.6461349129676819, 0.660527229309082, 0.6157312393188477, 0.6805760860443115, 0.6276147365570068, 0.6327409148216248, 0.6359250545501709, 0.6576665639877319, 0.6530776023864746, 0.6700606942176819, 0.6314919590950012, 0.6538981199264526, 0.6928816437721252, 0.6790230870246887, 0.6534377932548523, 0.6311728358268738, 0.6614347696304321, 0.6303955912590027, 0.6761044859886169, 0.6467710733413696, 0.6360555291175842, 0.5975702404975891, 0.6363850831985474, 0.6434106230735779, 0.631149411201477, 0.6497816443443298, 0.6283556818962097, 0.6359533667564392, 0.6684176325798035, 0.6133732795715332, 0.6436551213264465, 0.661271333694458, 0.6118602156639099, 0.6468095183372498, 0.6702925562858582, 0.6424422860145569, 0.6396239399909973, 0.6069371104240417, 0.6352793574333191, 0.6198880672454834, 0.6629604697227478, 0.6102027297019958, 0.6378253698348999, 0.6306281089782715, 0.617935836315155, 0.6205491423606873, 0.6376800537109375, 0.6274029612541199, 0.6537425518035889, 0.6320695877075195, 0.613960325717926, 0.6107676029205322, 0.6437736749649048, 0.6345677375793457, 0.6102384328842163, 0.6388945579528809, 0.6258765459060669, 0.5864626169204712, 0.6107012629508972, 0.6141948699951172, 0.5964863300323486, 0.633863627910614, 0.6230214238166809, 0.6021270155906677, 0.6485995650291443, 0.6090372204780579, 0.6105257272720337, 0.6147237420082092, 0.583598256111145, 0.6375507116317749, 0.6086537837982178, 0.5913915038108826, 0.6309139728546143, 0.6518632769584656, 0.592430591583252, 0.6100358366966248, 0.609337568283081, 0.6529350876808167, 0.5772456526756287, 0.6298946738243103, 0.6004582643508911, 0.6465855240821838, 0.614794135093689, 0.6171982884407043, 0.603280782699585, 0.6099913716316223, 0.598206102848053, 0.6242181062698364, 0.632497251033783, 0.5922158360481262, 0.6012324690818787, 0.5957624912261963, 0.6453271508216858, 0.6102734208106995, 0.5894424915313721, 0.6244598627090454, 0.6121727228164673, 0.5982618927955627, 0.6297467350959778, 0.611709475517273, 0.5995202660560608]\n",
            "processing fold # 3\n",
            "[10.306893348693848, 3.5212204456329346, 3.0301105976104736, 2.779860019683838, 2.559974193572998, 2.4760684967041016, 2.349343776702881, 2.3350651264190674, 2.2187938690185547, 2.156651020050049, 2.195746898651123, 2.177246332168579, 2.0320842266082764, 2.105569362640381, 2.01537823677063, 2.1136415004730225, 2.0307466983795166, 2.029763698577881, 1.9996607303619385, 2.036421537399292, 1.9554046392440796, 1.9420055150985718, 1.903936505317688, 1.8801928758621216, 1.922631025314331, 1.9116374254226685, 1.9199309349060059, 1.867748737335205, 1.8665119409561157, 1.8937822580337524, 1.9192209243774414, 1.8159503936767578, 1.8215712308883667, 1.8339107036590576, 1.8620319366455078, 1.7221448421478271, 1.8074915409088135, 1.7558233737945557, 1.7817898988723755, 1.7252048254013062, 1.747456669807434, 1.7592209577560425, 1.7464555501937866, 1.7442965507507324, 1.7567185163497925, 1.7150254249572754, 1.6764732599258423, 1.6814370155334473, 1.6170655488967896, 1.706075668334961, 1.6967511177062988, 1.6186097860336304, 1.643828272819519, 1.6461186408996582, 1.6657148599624634, 1.5982143878936768, 1.5756467580795288, 1.621084451675415, 1.5728745460510254, 1.5884242057800293, 1.5148190259933472, 1.6170247793197632, 1.5520049333572388, 1.5755832195281982, 1.567734956741333, 1.5312232971191406, 1.495124340057373, 1.537622094154358, 1.5076671838760376, 1.5336799621582031, 1.5080790519714355, 1.5006024837493896, 1.5047211647033691, 1.5037052631378174, 1.5046957731246948, 1.4446505308151245, 1.4292078018188477, 1.4295144081115723, 1.4430378675460815, 1.472121000289917, 1.4704816341400146, 1.4507511854171753, 1.3941826820373535, 1.411924958229065, 1.3902063369750977, 1.4109715223312378, 1.367518663406372, 1.401480793952942, 1.3629364967346191, 1.3772602081298828, 1.3613262176513672, 1.3489021062850952, 1.3544477224349976, 1.3592928647994995, 1.2864948511123657, 1.3771538734436035, 1.3471792936325073, 1.3323744535446167, 1.334120512008667, 1.3136262893676758, 1.3239655494689941, 1.2947033643722534, 1.3023494482040405, 1.2599918842315674, 1.3125110864639282, 1.2888867855072021, 1.2179285287857056, 1.3103572130203247, 1.2677717208862305, 1.2599537372589111, 1.249239206314087, 1.2717818021774292, 1.2232375144958496, 1.2734144926071167, 1.26063871383667, 1.230574369430542, 1.2436423301696777, 1.260902762413025, 1.2447532415390015, 1.2010233402252197, 1.1932506561279297, 1.237420916557312, 1.2327364683151245, 1.1780391931533813, 1.2119170427322388, 1.1513864994049072, 1.1679105758666992, 1.1564531326293945, 1.1836843490600586, 1.1792396306991577, 1.1701767444610596, 1.187058448791504, 1.1635940074920654, 1.1688742637634277, 1.1668314933776855, 1.1461530923843384, 1.1389936208724976, 1.1599512100219727, 1.1638094186782837, 1.176819920539856, 1.1444579362869263, 1.135002613067627, 1.1021599769592285, 1.1369946002960205, 1.1269404888153076, 1.0954174995422363, 1.1222219467163086, 1.0581010580062866, 1.145021915435791, 1.071311116218567, 1.1128933429718018, 1.0669652223587036, 1.0565876960754395, 1.1146702766418457, 1.0953928232192993, 1.1271753311157227, 1.0932317972183228, 1.0661178827285767, 1.0444798469543457, 1.0204672813415527, 1.08795964717865, 1.0814549922943115, 1.0728992223739624, 1.0623042583465576, 1.0923744440078735, 1.0658148527145386, 1.031435251235962, 1.0631444454193115, 1.1066699028015137, 1.0429185628890991, 1.0590252876281738, 1.073071002960205, 1.0549137592315674, 1.0577346086502075, 1.041921854019165, 1.062059998512268, 1.044806718826294, 1.0507339239120483, 1.0277938842773438, 1.0332401990890503, 1.0249691009521484, 1.097260594367981, 1.0531126260757446, 1.0454561710357666, 1.052244782447815, 1.0415314435958862, 1.0388447046279907, 1.0653448104858398, 1.0280810594558716, 1.0070394277572632, 1.0019690990447998, 1.0356624126434326, 1.0148468017578125, 0.9851112365722656, 1.0560839176177979, 1.0632798671722412, 1.0424830913543701, 1.0090326070785522, 1.0079481601715088, 1.020960807800293, 1.0015606880187988, 1.0298020839691162, 1.033258080482483, 0.9769415259361267, 1.005272388458252, 0.9893047213554382, 0.9702752828598022, 1.009759783744812, 1.0217289924621582, 1.0367376804351807, 1.0449877977371216, 1.0143221616744995, 1.0272270441055298, 0.9545169472694397, 0.9854423999786377, 0.9338521957397461, 0.9725931286811829, 1.031445026397705, 1.0203595161437988, 0.9765403270721436, 0.9886261820793152, 0.977706253528595, 1.0211162567138672, 0.9779174327850342, 0.9723460674285889, 0.9756026864051819, 0.9548981189727783, 0.9844147562980652, 0.9693609476089478, 1.015467882156372, 0.9634175896644592, 0.9599683880805969, 0.9840601682662964, 0.9614827036857605, 0.9539831280708313, 1.0323657989501953, 0.9587183594703674, 0.9905627369880676, 0.9401179552078247, 0.9964290261268616, 0.9694064855575562, 0.9036505818367004, 0.9368289113044739, 0.9898818731307983, 1.003176212310791, 0.9072144031524658, 1.0221718549728394, 0.9936171770095825, 0.9869346618652344, 0.9218440651893616, 0.9431139230728149, 0.9377160668373108, 0.9564927816390991, 0.9846739172935486, 0.9801074862480164, 0.9965552687644958, 0.9262515902519226, 0.9505006074905396, 0.9331085681915283, 0.9686301350593567, 0.9633806943893433, 0.9596667289733887, 0.8819838166236877, 0.8716541528701782, 0.9280248284339905, 0.942160427570343, 0.9629275798797607, 0.9724134206771851, 0.9816722273826599, 0.9828073978424072, 0.9800280332565308, 0.8904901146888733, 0.9021048545837402, 0.9045128226280212, 0.9432451725006104, 0.9328497648239136, 0.9276496767997742, 0.9136160016059875, 0.9396807551383972, 0.9141830801963806, 0.9293264150619507, 0.8895149827003479, 0.927711009979248, 0.9232009649276733, 0.8827953934669495, 0.8973512649536133, 0.9182061553001404, 0.9002174139022827, 0.9204707741737366, 0.913491427898407, 0.9159440398216248, 0.8651007413864136, 0.9241838455200195, 0.8614627718925476, 0.943705141544342, 0.8976435661315918, 0.9227647185325623, 0.8929766416549683, 0.8856300711631775, 0.8784841299057007, 0.8684089183807373, 0.9268943071365356, 0.8563792705535889, 0.8969572186470032, 0.903371274471283, 0.8551511764526367, 0.8628023266792297, 0.8861611485481262, 0.9088961482048035, 0.8872848153114319, 0.8948448896408081, 0.8846031427383423, 0.8761460781097412, 0.8351300358772278, 0.864956796169281, 0.8571327924728394, 0.9325722455978394, 0.8621909618377686, 0.8768951296806335, 0.8311862945556641, 0.8845886588096619, 0.8567072749137878, 0.8712321519851685, 0.8401355743408203, 0.782669723033905, 0.8611539602279663, 0.8527603149414062, 0.8519423007965088, 0.8754191994667053, 0.8376612663269043, 0.8525954484939575, 0.8512539267539978, 0.8458977937698364, 0.8514487147331238, 0.8847209811210632, 0.8207553029060364, 0.8673360347747803, 0.8420796990394592, 0.8465592265129089, 0.826216995716095, 0.8353025317192078, 0.8347958326339722, 0.8193562626838684, 0.8630731701850891, 0.8171973824501038, 0.8254441618919373, 0.8173123002052307, 0.8628208637237549, 0.8071770071983337, 0.8684903979301453, 0.8509913086891174, 0.8041772842407227, 0.8545263409614563, 0.8106364607810974, 0.8023131489753723, 0.8728472590446472, 0.7952834367752075, 0.7818722724914551, 0.7873514294624329, 0.7735207676887512, 0.8338102102279663, 0.800463855266571, 0.7986652851104736, 0.8030408024787903, 0.7469226121902466, 0.814940333366394, 0.8142125010490417, 0.7923153638839722, 0.7377878427505493, 0.8232533931732178, 0.7839972972869873, 0.809356153011322, 0.7973650693893433, 0.773845911026001, 0.8025988936424255, 0.8142495155334473, 0.7777587175369263, 0.7851992845535278, 0.7498127818107605, 0.8048704862594604, 0.8059808015823364, 0.7589330077171326, 0.7635746002197266, 0.7980225682258606, 0.8389768600463867, 0.7669711112976074, 0.7711759805679321, 0.8189694285392761, 0.7590320706367493, 0.7497916221618652, 0.7728052735328674, 0.7132178544998169, 0.8004099726676941, 0.7608174085617065, 0.8005462288856506, 0.7580879330635071, 0.7705683708190918, 0.7251433730125427, 0.7388266324996948, 0.7716055512428284, 0.7645838260650635, 0.7790837287902832, 0.7722604870796204, 0.7692971229553223, 0.7778341174125671, 0.7655901312828064, 0.7592247128486633, 0.740440845489502, 0.7448546290397644, 0.7725114226341248, 0.7595998644828796, 0.7403860688209534, 0.7571578025817871, 0.7463160753250122, 0.7496543526649475, 0.7363705039024353, 0.7079067230224609, 0.7302257418632507, 0.7513023614883423, 0.7194055914878845, 0.7679688334465027, 0.706447184085846, 0.7573496103286743, 0.7673699259757996, 0.7144200801849365, 0.7670286297798157, 0.725495457649231, 0.6810833811759949, 0.7456190586090088, 0.7478892803192139, 0.7343894839286804, 0.7232798337936401, 0.7386061549186707, 0.7336935997009277, 0.7376851439476013, 0.7398577332496643, 0.7386005520820618, 0.7532640099525452, 0.7265220880508423, 0.7393127083778381, 0.7568772435188293, 0.7339179515838623, 0.7495379447937012, 0.7329300045967102, 0.7046588063240051, 0.6983739733695984, 0.7520650029182434, 0.6962326169013977, 0.7462846636772156, 0.7041400074958801, 0.6952909231185913, 0.7125009894371033, 0.7086904048919678, 0.7119784355163574, 0.7261951565742493, 0.6876853108406067, 0.7017242312431335, 0.7435211539268494, 0.7113695740699768, 0.7606698870658875, 0.7115224003791809, 0.7029397487640381, 0.7136968970298767, 0.7222996354103088, 0.7245602011680603, 0.7144078612327576, 0.7755715250968933, 0.669011116027832, 0.7506664395332336, 0.6952720880508423, 0.7118050456047058, 0.7044669389724731, 0.6868329644203186, 0.7212191820144653, 0.7164889574050903, 0.673394501209259, 0.7157304883003235, 0.7172321081161499, 0.7006426453590393, 0.6967864632606506, 0.7071636319160461, 0.6884975433349609, 0.6930884718894958, 0.7027508616447449, 0.689065158367157, 0.6685864329338074, 0.7079479098320007, 0.7174201607704163, 0.6980125904083252, 0.6881361603736877, 0.7055683732032776, 0.6766249537467957, 0.7017287611961365, 0.6751925349235535, 0.6819112300872803, 0.7593637108802795, 0.6772128343582153, 0.7280768752098083, 0.6768978834152222, 0.7068824172019958]\n"
          ],
          "name": "stdout"
        }
      ]
    },
    {
      "cell_type": "markdown",
      "metadata": {
        "id": "vmoNb8RWuo94"
      },
      "source": [
        "## Exercise 7"
      ]
    },
    {
      "cell_type": "code",
      "metadata": {
        "colab": {
          "base_uri": "https://localhost:8080/"
        },
        "id": "MrKoM4zzurhH",
        "outputId": "a7130c1a-565d-49e5-add5-e0fec3c16d44"
      },
      "source": [
        "average_mae_history = [np.mean([x[i] for x in all_mae_histories]) for i in range(num_epochs)]\n",
        "average_mae_history_train = [np.mean([x[i] for x in all_mae_history_train]) for i in range(num_epochs)]\n",
        "\n",
        "average_mae_history"
      ],
      "execution_count": null,
      "outputs": [
        {
          "output_type": "execute_result",
          "data": {
            "text/plain": [
              "[4.403945088386536,\n",
              " 3.3415854573249817,\n",
              " 3.1253063082695007,\n",
              " 2.854921281337738,\n",
              " 2.818695068359375,\n",
              " 2.5924323201179504,\n",
              " 2.673301577568054,\n",
              " 2.5962324142456055,\n",
              " 2.6547186970710754,\n",
              " 2.7203423380851746,\n",
              " 2.5221301317214966,\n",
              " 2.5474504828453064,\n",
              " 2.552985191345215,\n",
              " 2.687986373901367,\n",
              " 2.485670268535614,\n",
              " 2.5446648001670837,\n",
              " 2.5103413462638855,\n",
              " 2.471744656562805,\n",
              " 2.5236250460147858,\n",
              " 2.5500981211662292,\n",
              " 2.5373569428920746,\n",
              " 2.467947781085968,\n",
              " 2.5091936588287354,\n",
              " 2.4590787291526794,\n",
              " 2.382663279771805,\n",
              " 2.441138416528702,\n",
              " 2.4973554611206055,\n",
              " 2.58024263381958,\n",
              " 2.4058365523815155,\n",
              " 2.40878364443779,\n",
              " 2.375685840845108,\n",
              " 2.393559992313385,\n",
              " 2.4490518867969513,\n",
              " 2.3677046298980713,\n",
              " 2.4302245378494263,\n",
              " 2.384052574634552,\n",
              " 2.406167060136795,\n",
              " 2.4338082671165466,\n",
              " 2.4118300676345825,\n",
              " 2.4367571473121643,\n",
              " 2.43359375,\n",
              " 2.4127676486968994,\n",
              " 2.4933879673480988,\n",
              " 2.5319701433181763,\n",
              " 2.391647845506668,\n",
              " 2.361752539873123,\n",
              " 2.394212305545807,\n",
              " 2.4018789529800415,\n",
              " 2.44615775346756,\n",
              " 2.330051004886627,\n",
              " 2.382799804210663,\n",
              " 2.414953112602234,\n",
              " 2.461215376853943,\n",
              " 2.4048754572868347,\n",
              " 2.3370778560638428,\n",
              " 2.410009503364563,\n",
              " 2.368305116891861,\n",
              " 2.7009560465812683,\n",
              " 2.4105020463466644,\n",
              " 2.4721453189849854,\n",
              " 2.3666819632053375,\n",
              " 2.41877818107605,\n",
              " 2.3737730383872986,\n",
              " 2.455905020236969,\n",
              " 2.594913065433502,\n",
              " 2.437529444694519,\n",
              " 2.5341766476631165,\n",
              " 2.4340329468250275,\n",
              " 2.5962212681770325,\n",
              " 2.5635419487953186,\n",
              " 2.4731645584106445,\n",
              " 2.343983620405197,\n",
              " 2.484933614730835,\n",
              " 2.440971314907074,\n",
              " 2.456498682498932,\n",
              " 2.4286330342292786,\n",
              " 2.4303810596466064,\n",
              " 2.510317027568817,\n",
              " 2.5157249569892883,\n",
              " 2.4437251687049866,\n",
              " 2.455302983522415,\n",
              " 2.479544520378113,\n",
              " 2.6246452927589417,\n",
              " 2.574982702732086,\n",
              " 2.5850566625595093,\n",
              " 2.499554395675659,\n",
              " 2.4845540523529053,\n",
              " 2.4722540378570557,\n",
              " 2.4350696206092834,\n",
              " 2.522601544857025,\n",
              " 2.476362109184265,\n",
              " 2.498486638069153,\n",
              " 2.5004770755767822,\n",
              " 2.551355481147766,\n",
              " 2.529892146587372,\n",
              " 2.582621395587921,\n",
              " 2.50309956073761,\n",
              " 2.493318021297455,\n",
              " 2.452640950679779,\n",
              " 2.552828311920166,\n",
              " 2.5032700300216675,\n",
              " 2.6153488755226135,\n",
              " 2.6078267097473145,\n",
              " 2.8001474142074585,\n",
              " 2.485382378101349,\n",
              " 2.476457178592682,\n",
              " 2.549259066581726,\n",
              " 2.497214138507843,\n",
              " 2.534441113471985,\n",
              " 2.5002992153167725,\n",
              " 2.4835455417633057,\n",
              " 2.393647849559784,\n",
              " 2.5503889322280884,\n",
              " 2.570798397064209,\n",
              " 2.5081213116645813,\n",
              " 2.690523326396942,\n",
              " 2.6311643719673157,\n",
              " 2.524570405483246,\n",
              " 2.854516565799713,\n",
              " 2.5440755486488342,\n",
              " 2.571018695831299,\n",
              " 2.553138852119446,\n",
              " 2.6783854365348816,\n",
              " 2.5586068630218506,\n",
              " 2.5556430220603943,\n",
              " 2.723463714122772,\n",
              " 2.5115031003952026,\n",
              " 2.6304147839546204,\n",
              " 2.7232993841171265,\n",
              " 2.5333439111709595,\n",
              " 2.6036872267723083,\n",
              " 2.632560968399048,\n",
              " 2.61737322807312,\n",
              " 2.5835151076316833,\n",
              " 2.649708867073059,\n",
              " 2.589756727218628,\n",
              " 2.606197953224182,\n",
              " 2.724053144454956,\n",
              " 2.7035622000694275,\n",
              " 2.668363034725189,\n",
              " 2.5757845640182495,\n",
              " 2.602528750896454,\n",
              " 2.6754924654960632,\n",
              " 2.6075605750083923,\n",
              " 2.6439459919929504,\n",
              " 2.578913688659668,\n",
              " 2.6887614727020264,\n",
              " 2.774149715900421,\n",
              " 2.702347159385681,\n",
              " 2.738828480243683,\n",
              " 2.6277642250061035,\n",
              " 2.6278868913650513,\n",
              " 2.7019302248954773,\n",
              " 2.6015522480010986,\n",
              " 2.7779428958892822,\n",
              " 2.573288917541504,\n",
              " 2.6521936655044556,\n",
              " 2.7720780968666077,\n",
              " 2.681950330734253,\n",
              " 2.739397168159485,\n",
              " 2.646582782268524,\n",
              " 2.6752588152885437,\n",
              " 2.6425973176956177,\n",
              " 2.692572236061096,\n",
              " 2.590094029903412,\n",
              " 2.6325382590293884,\n",
              " 2.543538272380829,\n",
              " 2.6703569889068604,\n",
              " 2.7769786715507507,\n",
              " 2.6422321796417236,\n",
              " 2.6299972534179688,\n",
              " 2.592662513256073,\n",
              " 2.7306382060050964,\n",
              " 2.656027138233185,\n",
              " 2.743320107460022,\n",
              " 2.635738492012024,\n",
              " 2.8104902505874634,\n",
              " 2.798959791660309,\n",
              " 2.7012794613838196,\n",
              " 2.698594570159912,\n",
              " 2.6401607990264893,\n",
              " 2.591535449028015,\n",
              " 2.720624566078186,\n",
              " 2.5754615664482117,\n",
              " 2.6439844369888306,\n",
              " 2.6669012308120728,\n",
              " 2.6411438584327698,\n",
              " 2.743080258369446,\n",
              " 2.6726571321487427,\n",
              " 2.635783851146698,\n",
              " 2.7319833636283875,\n",
              " 2.665128707885742,\n",
              " 2.588948130607605,\n",
              " 2.712338149547577,\n",
              " 2.6093665957450867,\n",
              " 2.7049283385276794,\n",
              " 2.6540207862854004,\n",
              " 2.696760416030884,\n",
              " 2.7301039695739746,\n",
              " 2.704158127307892,\n",
              " 2.803207576274872,\n",
              " 2.7002972960472107,\n",
              " 2.735399842262268,\n",
              " 2.7127789855003357,\n",
              " 2.624213993549347,\n",
              " 2.622656285762787,\n",
              " 2.8006129264831543,\n",
              " 2.6652451753616333,\n",
              " 2.640512228012085,\n",
              " 2.6533990502357483,\n",
              " 2.8032678365707397,\n",
              " 2.738123595714569,\n",
              " 2.7098993062973022,\n",
              " 2.609067678451538,\n",
              " 2.6408957839012146,\n",
              " 2.7732405066490173,\n",
              " 2.688219726085663,\n",
              " 2.763346016407013,\n",
              " 2.687524139881134,\n",
              " 2.738192856311798,\n",
              " 2.6362435817718506,\n",
              " 2.664613366127014,\n",
              " 2.757658064365387,\n",
              " 2.751167058944702,\n",
              " 2.652817964553833,\n",
              " 2.479825496673584,\n",
              " 2.6532015800476074,\n",
              " 2.6851093769073486,\n",
              " 2.6538484692573547,\n",
              " 2.7251698970794678,\n",
              " 2.6561191082000732,\n",
              " 2.607457935810089,\n",
              " 2.59555321931839,\n",
              " 2.7737274765968323,\n",
              " 2.682401657104492,\n",
              " 2.751438021659851,\n",
              " 2.6762553453445435,\n",
              " 2.65444678068161,\n",
              " 2.868718385696411,\n",
              " 2.7269952297210693,\n",
              " 2.6888079047203064,\n",
              " 2.612117052078247,\n",
              " 2.76195228099823,\n",
              " 2.6300508975982666,\n",
              " 2.674535036087036,\n",
              " 2.815243422985077,\n",
              " 2.600246787071228,\n",
              " 2.747299313545227,\n",
              " 2.65428364276886,\n",
              " 2.7120935916900635,\n",
              " 2.8685030341148376,\n",
              " 2.6105664372444153,\n",
              " 2.7546924352645874,\n",
              " 2.778220295906067,\n",
              " 2.670442581176758,\n",
              " 2.758910357952118,\n",
              " 2.694258391857147,\n",
              " 2.665067493915558,\n",
              " 2.6742407083511353,\n",
              " 2.702754855155945,\n",
              " 2.681080400943756,\n",
              " 2.751184046268463,\n",
              " 2.6973268389701843,\n",
              " 2.6022353172302246,\n",
              " 2.688340485095978,\n",
              " 2.6476802825927734,\n",
              " 2.7213847041130066,\n",
              " 2.851162612438202,\n",
              " 2.7171342372894287,\n",
              " 2.739564538002014,\n",
              " 2.6724549531936646,\n",
              " 2.737556755542755,\n",
              " 2.6570006608963013,\n",
              " 2.7822681665420532,\n",
              " 2.754770338535309,\n",
              " 2.790509521961212,\n",
              " 2.77552193403244,\n",
              " 2.747909903526306,\n",
              " 2.6823058128356934,\n",
              " 2.7568503618240356,\n",
              " 2.730987548828125,\n",
              " 2.765026092529297,\n",
              " 2.8357731103897095,\n",
              " 2.7400776743888855,\n",
              " 2.811174690723419,\n",
              " 2.7215147614479065,\n",
              " 2.6591637134552,\n",
              " 2.6625874638557434,\n",
              " 2.745215654373169,\n",
              " 2.7605607509613037,\n",
              " 2.8402270078659058,\n",
              " 2.7680171132087708,\n",
              " 2.87479966878891,\n",
              " 2.74161958694458,\n",
              " 2.690101742744446,\n",
              " 2.7491350173950195,\n",
              " 2.8144631385803223,\n",
              " 2.6976397037506104,\n",
              " 2.665741205215454,\n",
              " 2.7051331400871277,\n",
              " 2.7719132900238037,\n",
              " 2.699254035949707,\n",
              " 2.7792468070983887,\n",
              " 2.7612287998199463,\n",
              " 2.719263195991516,\n",
              " 2.7157418727874756,\n",
              " 2.7898126244544983,\n",
              " 2.758421301841736,\n",
              " 2.7908947467803955,\n",
              " 2.7692959904670715,\n",
              " 2.6908233761787415,\n",
              " 2.7289523482322693,\n",
              " 2.8035256266593933,\n",
              " 2.7432538866996765,\n",
              " 2.7702401876449585,\n",
              " 2.843990921974182,\n",
              " 2.712738573551178,\n",
              " 2.661742925643921,\n",
              " 2.7818350791931152,\n",
              " 2.6996833086013794,\n",
              " 2.771485447883606,\n",
              " 2.734437346458435,\n",
              " 2.785898983478546,\n",
              " 2.853883743286133,\n",
              " 2.765779197216034,\n",
              " 2.697154939174652,\n",
              " 2.8484453558921814,\n",
              " 2.781346023082733,\n",
              " 2.79425448179245,\n",
              " 2.715206742286682,\n",
              " 2.822773039340973,\n",
              " 2.698056161403656,\n",
              " 2.8258641362190247,\n",
              " 2.6619166135787964,\n",
              " 2.810885787010193,\n",
              " 2.754721462726593,\n",
              " 2.8635663986206055,\n",
              " 2.7687122225761414,\n",
              " 2.8742511868476868,\n",
              " 2.857043445110321,\n",
              " 2.9394447803497314,\n",
              " 2.762251913547516,\n",
              " 2.80417001247406,\n",
              " 2.8333892226219177,\n",
              " 2.8446196913719177,\n",
              " 2.723175883293152,\n",
              " 2.866803765296936,\n",
              " 2.7104580402374268,\n",
              " 2.7559197545051575,\n",
              " 2.7396386861801147,\n",
              " 2.785478949546814,\n",
              " 2.7591962814331055,\n",
              " 2.818122386932373,\n",
              " 2.791373372077942,\n",
              " 2.7838088274002075,\n",
              " 2.791046440601349,\n",
              " 2.748839259147644,\n",
              " 2.7616634368896484,\n",
              " 2.745444357395172,\n",
              " 2.7123003602027893,\n",
              " 2.7311280965805054,\n",
              " 2.74199241399765,\n",
              " 2.774479389190674,\n",
              " 2.7168803811073303,\n",
              " 2.7675596475601196,\n",
              " 2.863363027572632,\n",
              " 2.8218915462493896,\n",
              " 2.6755102276802063,\n",
              " 2.768060624599457,\n",
              " 2.753804862499237,\n",
              " 2.842461347579956,\n",
              " 2.7494643926620483,\n",
              " 2.8323134779930115,\n",
              " 2.7484946250915527,\n",
              " 2.737110137939453,\n",
              " 2.698050379753113,\n",
              " 2.7179861068725586,\n",
              " 2.7059725522994995,\n",
              " 2.804746448993683,\n",
              " 2.8374491930007935,\n",
              " 2.697709858417511,\n",
              " 2.692439615726471,\n",
              " 2.7096264958381653,\n",
              " 2.738462805747986,\n",
              " 2.7333009243011475,\n",
              " 2.7809808254241943,\n",
              " 2.7124173045158386,\n",
              " 2.686805248260498,\n",
              " 2.7656160593032837,\n",
              " 2.8829535841941833,\n",
              " 2.712611734867096,\n",
              " 2.765444755554199,\n",
              " 2.751456320285797,\n",
              " 2.729998230934143,\n",
              " 2.7271331548690796,\n",
              " 2.8593334555625916,\n",
              " 2.786090135574341,\n",
              " 2.8318912982940674,\n",
              " 2.727755308151245,\n",
              " 2.756569504737854,\n",
              " 2.715065062046051,\n",
              " 2.749643623828888,\n",
              " 2.7286258339881897,\n",
              " 2.7259796261787415,\n",
              " 2.76028573513031,\n",
              " 2.7335948944091797,\n",
              " 2.7600753903388977,\n",
              " 2.7869070768356323,\n",
              " 2.73389995098114,\n",
              " 2.7623842358589172,\n",
              " 2.866934895515442,\n",
              " 2.8100545406341553,\n",
              " 2.61291366815567,\n",
              " 2.7437759041786194,\n",
              " 2.795789897441864,\n",
              " 2.8391001224517822,\n",
              " 2.7263208627700806,\n",
              " 2.767510712146759,\n",
              " 2.8595845103263855,\n",
              " 2.7566481828689575,\n",
              " 2.7567503452301025,\n",
              " 2.746731221675873,\n",
              " 2.788304090499878,\n",
              " 2.744397819042206,\n",
              " 2.7773711681365967,\n",
              " 2.839707314968109,\n",
              " 2.862252354621887,\n",
              " 2.6961905360221863,\n",
              " 2.9147598147392273,\n",
              " 2.8653514981269836,\n",
              " 2.802698075771332,\n",
              " 2.762350082397461,\n",
              " 2.789806842803955,\n",
              " 2.813297688961029,\n",
              " 2.7391690015792847,\n",
              " 2.6964123845100403,\n",
              " 2.7648454904556274,\n",
              " 2.8523009419441223,\n",
              " 2.7711828351020813,\n",
              " 2.6674538254737854,\n",
              " 2.777558743953705,\n",
              " 2.7662306427955627,\n",
              " 2.7586191296577454,\n",
              " 2.852649748325348,\n",
              " 2.7607256174087524,\n",
              " 2.7209303975105286,\n",
              " 2.7901429533958435,\n",
              " 2.640514850616455,\n",
              " 2.7116507291793823,\n",
              " 2.7294029593467712,\n",
              " 2.716506004333496,\n",
              " 2.800389587879181,\n",
              " 2.8044272661209106,\n",
              " 2.7688429951667786,\n",
              " 2.7686806321144104,\n",
              " 2.692942798137665,\n",
              " 2.702096402645111,\n",
              " 2.6882513761520386,\n",
              " 2.7193073630332947,\n",
              " 2.6651893258094788,\n",
              " 2.788230836391449,\n",
              " 2.756286859512329,\n",
              " 2.789780557155609,\n",
              " 2.830331861972809,\n",
              " 2.71263587474823,\n",
              " 2.796016752719879,\n",
              " 2.8850526213645935,\n",
              " 2.859853744506836,\n",
              " 2.7199390530586243,\n",
              " 2.6967108249664307,\n",
              " 2.787577509880066,\n",
              " 2.818570852279663,\n",
              " 2.733142077922821,\n",
              " 2.812241017818451,\n",
              " 2.7871994376182556,\n",
              " 2.8183229565620422,\n",
              " 2.7270761132240295,\n",
              " 2.745446503162384,\n",
              " 2.753419041633606,\n",
              " 2.6500848531723022,\n",
              " 2.7744483947753906,\n",
              " 2.7693710923194885,\n",
              " 2.7013978958129883,\n",
              " 2.7518084049224854,\n",
              " 2.7394416332244873,\n",
              " 2.8167688250541687,\n",
              " 2.7857413291931152,\n",
              " 2.78383731842041,\n",
              " 2.7365203499794006,\n",
              " 2.7811021208763123,\n",
              " 2.760931074619293,\n",
              " 2.7117100954055786,\n",
              " 2.7418338656425476,\n",
              " 2.7480239868164062,\n",
              " 2.805993139743805,\n",
              " 2.685314416885376,\n",
              " 2.6619889736175537,\n",
              " 2.7824397683143616,\n",
              " 2.7477598190307617,\n",
              " 2.6902060508728027]"
            ]
          },
          "metadata": {
            "tags": []
          },
          "execution_count": 17
        }
      ]
    },
    {
      "cell_type": "markdown",
      "metadata": {
        "id": "U-LhNB_Gu-3w"
      },
      "source": [
        "## Exercise 8"
      ]
    },
    {
      "cell_type": "code",
      "metadata": {
        "colab": {
          "base_uri": "https://localhost:8080/",
          "height": 279
        },
        "id": "CR248AMHvAPO",
        "outputId": "add58022-c5e8-4cd1-846d-62dd3cfc980a"
      },
      "source": [
        "import matplotlib.pyplot as plt\n",
        "\n",
        "plt.plot(range(10, len(average_mae_history) + 1), average_mae_history[9:], label ='val')\n",
        "plt.plot(range(10, len(average_mae_history) + 1), average_mae_history_train[9:], label ='train')\n",
        "plt.xlabel('Epochs')\n",
        "plt.ylabel('Validation MAE')\n",
        "plt.legend()\n",
        "plt.show()"
      ],
      "execution_count": null,
      "outputs": [
        {
          "output_type": "display_data",
          "data": {
            "image/png": "[encoded data removed]",
            "text/plain": [
              "<Figure size 432x288 with 1 Axes>"
            ]
          },
          "metadata": {
            "tags": [],
            "needs_background": "light"
          }
        }
      ]
    },
    {
      "cell_type": "markdown",
      "metadata": {
        "id": "liDFOhIcvaay"
      },
      "source": [
        "## Exercise 9"
      ]
    },
    {
      "cell_type": "code",
      "metadata": {
        "colab": {
          "base_uri": "https://localhost:8080/",
          "height": 279
        },
        "id": "r_LJAnzOvbnu",
        "outputId": "36be6e3d-c6c8-4710-e395-bf29c1814293"
      },
      "source": [
        "def smooth_curve(points, factor=0.9):\n",
        "  smoothed_points = []\n",
        "  for point in points:\n",
        "    if smoothed_points:\n",
        "      previous = smoothed_points[-1]\n",
        "      smoothed_points.append(previous * factor + point * (1 - factor))\n",
        "    else:\n",
        "      smoothed_points.append(point)\n",
        "  return smoothed_points\n",
        "\n",
        "smooth_mae_history = smooth_curve(average_mae_history[10:])\n",
        "smooth_mae_history_train = smooth_curve(average_mae_history_train[10:])\n",
        "\n",
        "plt.plot(range(1, len(smooth_mae_history) + 1), smooth_mae_history,label ='val')\n",
        "plt.plot(range(1, len(smooth_mae_history_train) + 1), smooth_mae_history_train, label ='train')\n",
        "\n",
        "plt.xlabel('Epochs')\n",
        "plt.ylabel('Validation MAE')\n",
        "plt.legend()\n",
        "plt.show()\n"
      ],
      "execution_count": null,
      "outputs": [
        {
          "output_type": "display_data",
          "data": {
            "image/png": "[encoded data removed]",
            "text/plain": [
              "<Figure size 432x288 with 1 Axes>"
            ]
          },
          "metadata": {
            "tags": [],
            "needs_background": "light"
          }
        }
      ]
    }
  ]
}